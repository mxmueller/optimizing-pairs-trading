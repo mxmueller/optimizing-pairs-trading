{
 "cells": [
  {
   "cell_type": "code",
   "execution_count": null,
   "metadata": {
    "vscode": {
     "languageId": "plaintext"
    }
   },
   "outputs": [],
   "source": [
    "from clickhouse_driver import Client\n",
    "import pandas as pd\n",
    "import numpy as np\n",
    "from statsmodels.tsa.stattools import coint\n",
    "import seaborn as sns\n",
    "import matplotlib.pyplot as plt\n",
    "from datetime import datetime, timedelta"
   ]
  },
  {
   "cell_type": "code",
   "execution_count": null,
   "metadata": {
    "vscode": {
     "languageId": "plaintext"
    }
   },
   "outputs": [],
   "source": [
    "client = Client(host='localhost', port=9000, user='default', password='password')\n",
    "\n",
    "start_date = client.execute('SELECT MIN(date) FROM stock_data')[0][0]\n",
    "end_date = start_date + timedelta(days=48*30)\n",
    "\n",
    "def get_sector_pairs(sector=None):\n",
    "    query = '''\n",
    "    SELECT pair_key, sector, symbol1, symbol2 \n",
    "    FROM stock_pairs\n",
    "    '''\n",
    "    if sector:\n",
    "        query += f\" WHERE sector = '{sector}'\"\n",
    "    return pd.DataFrame(client.execute(query), \n",
    "                       columns=['pair_key', 'sector', 'symbol1', 'symbol2'])\n",
    "\n",
    "def get_stock_data(symbols):\n",
    "    placeholders = ', '.join(f\"'{s}'\" for s in symbols)\n",
    "    query = f'''\n",
    "    SELECT symbol, date, close \n",
    "    FROM stock_data\n",
    "    WHERE symbol IN ({placeholders})\n",
    "    AND date BETWEEN '{start_date}' AND '{end_date}'\n",
    "    ORDER BY symbol, date\n",
    "    '''\n",
    "    df = pd.DataFrame(\n",
    "        client.execute(query), \n",
    "        columns=['symbol', 'date', 'close']\n",
    "    )\n",
    "    return df.pivot(columns='symbol', values='close', index='date')\n",
    "\n",
    "pairs_df = get_sector_pairs()\n",
    "unique_symbols = pd.concat([pairs_df['symbol1'], pairs_df['symbol2']]).unique()\n",
    "data = get_stock_data(unique_symbols)\n",
    "\n",
    "scores, pvalues, pairs = find_cointegrated_pairs(data)\n",
    "\n",
    "plt.figure(figsize=(12, 8))\n",
    "mask = (pvalues >= 0.98)\n",
    "sns.heatmap(pvalues, \n",
    "            xticklabels=data.columns, \n",
    "            yticklabels=data.columns, \n",
    "            cmap='RdYlGn_r',\n",
    "            mask=mask)\n",
    "plt.xticks(rotation=90)\n",
    "plt.yticks(rotation=0)\n",
    "plt.title('Cointegration p-values heatmap')\n",
    "plt.tight_layout()\n",
    "plt.show()\n",
    "\n",
    "print(\"\\nCointegrated Pairs (p-value < 0.05):\")\n",
    "for pair in pairs:\n",
    "    print(f\"{pair[0]} - {pair[1]}\")"
   ]
  }
 ],
 "metadata": {
  "language_info": {
   "name": "python"
  }
 },
 "nbformat": 4,
 "nbformat_minor": 2
}

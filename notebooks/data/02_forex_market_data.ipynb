{
 "cells": [
  {
   "metadata": {},
   "cell_type": "code",
   "source": "import pandas as pd",
   "outputs": [],
   "execution_count": null
  },
  {
   "metadata": {},
   "cell_type": "code",
   "source": [
    "url = \"https://yfiua.github.io/index-constituents/constituents-ftse100.csv\"\n",
    "df = pd.read_csv(url)"
   ],
   "outputs": [],
   "execution_count": null
  },
  {
   "metadata": {},
   "cell_type": "code",
   "source": [
    "symbols = []\n",
    "for symbol in symbols_df['Symbol']:\n",
    "    if symbol == 'BT/A.L':\n",
    "        clean_symbol = 'BT-A.L'\n",
    "    else:\n",
    "        clean_symbol = symbol.replace('/', '.')\n",
    "        if '..' in clean_symbol:\n",
    "            clean_symbol = clean_symbol.replace('..', '.')\n",
    "    symbols.append(clean_symbol)\n",
    "\n",
    "all_data = pd.DataFrame()\n",
    "\n",
    "for symbol in symbols:\n",
    "    stock_data = yf.download(symbol, start=\"2020-01-01\", end=\"2025-02-01\")\n",
    "    stock_data['Symbol'] = symbol\n",
    "    all_data = pd.concat([all_data, stock_data])\n",
    "\n",
    "all_data = all_data.reset_index()\n",
    "all_data.to_parquet('../../data/raw/ftse_daily_raw.parquet')"
   ],
   "outputs": [],
   "execution_count": null
  },
  {
   "metadata": {},
   "cell_type": "code",
   "source": [
    "import pandas as pd\n",
    "import json\n",
    "\n",
    "def process_data():\n",
    "    df = pd.read_parquet('../../data/raw/ftse_daily_raw.parquet')\n",
    "    \n",
    "    results = []\n",
    "    unique_tickers = sorted(set(col[1] for col in df.columns if isinstance(col, tuple) and col[1]))\n",
    "    \n",
    "    index_counter = {}\n",
    "    \n",
    "    for ticker in unique_tickers:\n",
    "        index_counter[ticker] = 0\n",
    "        \n",
    "        date_data = df[('Date', '')]\n",
    "        close_data = df[('Close', ticker)]\n",
    "        high_data = df[('High', ticker)]\n",
    "        low_data = df[('Low', ticker)]\n",
    "        open_data = df[('Open', ticker)]\n",
    "        volume_data = df[('Volume', ticker)]\n",
    "        \n",
    "        mask = pd.notna(close_data)\n",
    "        valid_indices = mask[mask].index\n",
    "        \n",
    "        dates = pd.to_datetime(date_data[valid_indices], unit='ns')\n",
    "        sorted_indices = [x for _, x in sorted(zip(dates, valid_indices))]\n",
    "        \n",
    "        for idx in sorted_indices:\n",
    "            entry = {\n",
    "                'symbol': ticker,\n",
    "                'date': pd.to_datetime(date_data.iloc[idx], unit='ns').strftime('%Y-%m-%d'),\n",
    "                'open': float(open_data.iloc[idx]),\n",
    "                'high': float(high_data.iloc[idx]),\n",
    "                'low': float(low_data.iloc[idx]),\n",
    "                'close': float(close_data.iloc[idx]),\n",
    "                'volume': int(volume_data.iloc[idx]),\n",
    "                '__index_level_0__': index_counter[ticker]\n",
    "            }\n",
    "            index_counter[ticker] += 1\n",
    "            results.append(entry)\n",
    "    \n",
    "    final_df = pd.DataFrame(results)\n",
    "    final_df.to_parquet('../../data/raw/ftse_daily.parquet', index=False)\n",
    "\n",
    "process_data()"
   ],
   "outputs": [],
   "execution_count": null
  },
  {
   "metadata": {},
   "cell_type": "code",
   "source": "df = pd.read_parquet('../../data/raw/ftse_daily.parquet')",
   "outputs": [],
   "execution_count": null
  },
  {
   "metadata": {},
   "cell_type": "code",
   "source": [
    "import pandas as pd\n",
    "import matplotlib.pyplot as plt\n",
    "import math\n",
    "\n",
    "def plot_all_stocks(df):\n",
    "    symbols = df['symbol'].unique()\n",
    "    n = len(symbols)\n",
    "    cols = 5\n",
    "    rows = math.ceil(n / cols)\n",
    "\n",
    "    fig, axs = plt.subplots(rows, cols, figsize=(20, 4 * rows))\n",
    "    axs = axs.ravel()\n",
    "\n",
    "    for idx, symbol in enumerate(symbols):\n",
    "        data = df[df['symbol'] == symbol]\n",
    "        axs[idx].plot(pd.to_datetime(data['date']), data['close'])\n",
    "        axs[idx].set_title(symbol)\n",
    "        axs[idx].tick_params(axis='x', rotation=45)\n",
    "\n",
    "    plt.tight_layout()\n",
    "    plt.show()\n",
    "\n",
    "\n",
    "plot_all_stocks(df)"
   ],
   "outputs": [],
   "execution_count": null
  }
 ],
 "metadata": {
  "kernelspec": {
   "display_name": "base",
   "language": "python",
   "name": "python3"
  },
  "language_info": {
   "codemirror_mode": {
    "name": "ipython",
    "version": 3
   },
   "file_extension": ".py",
   "mimetype": "text/x-python",
   "name": "python",
   "nbconvert_exporter": "python",
   "pygments_lexer": "ipython3",
   "version": "3.12.2"
  }
 },
 "nbformat": 4,
 "nbformat_minor": 2
}

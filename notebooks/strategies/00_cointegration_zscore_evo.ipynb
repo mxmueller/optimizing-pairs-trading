{
 "cells": [
  {
   "cell_type": "code",
   "execution_count": 1,
   "metadata": {
    "ExecuteTime": {
     "end_time": "2025-03-03T09:58:01.326916Z",
     "start_time": "2025-03-03T09:58:01.323652Z"
    }
   },
   "outputs": [],
   "source": [
    "import sys\n",
    "sys.path.append(\"../../\")\n",
    "from statsmodels.tsa.stattools import adfuller\n",
    "from src.statistics.cointegration import find_cointegrated_pairs, analyze_pairs, plot_cointegration_heatmap\n",
    "from datetime import datetime, timedelta\n",
    "import pandas as pd\n",
    "import numpy as np\n",
    "import matplotlib.pyplot as plt\n",
    "import warnings\n",
    "warnings.filterwarnings('ignore')\n",
    "\n",
    "DATE_CONFIG = {\n",
    "    'TRAIN_START': pd.Timestamp('2021-02-02'),\n",
    "    'TRAIN_END': pd.Timestamp('2024-01-01'),\n",
    "    'TEST_END': pd.Timestamp('2025-01-01'),\n",
    "    'TRADING_DAYS_PER_YEAR': 252  \n",
    "}\n",
    "\n",
    "plt.style.use('classic')\n",
    "plt.rcParams['figure.figsize'] = [12, 6]\n",
    "plt.rcParams['figure.dpi'] = 100"
   ]
  },
  {
   "cell_type": "code",
   "execution_count": 2,
   "metadata": {
    "ExecuteTime": {
     "end_time": "2025-03-03T09:58:01.376218Z",
     "start_time": "2025-03-03T09:58:01.374551Z"
    },
    "tags": [
     "parameters"
    ]
   },
   "outputs": [],
   "source": [
    "p_threshold = 0.05\n",
    "min_pairs = 20\n",
    "\n",
    "window_shifts = 12\n",
    "shift_size = 1\n",
    "\n",
    "entry_threshold = 2.0\n",
    "exit_threshold = 0.5\n",
    "window1 = 5 \n",
    "window2 = 60\n",
    "\n",
    "base_input_path = \"../../data/raw/\" \n",
    "input_filename = \"nasdaq_daily.parquet\" \n",
    "base_output_path = \"../../data/results/\" \n",
    "output_filename = \"CoInt_Z-Score_Sliding.parquet\""
   ]
  },
  {
   "cell_type": "code",
   "execution_count": 3,
   "metadata": {
    "ExecuteTime": {
     "end_time": "2025-03-03T09:58:01.542429Z",
     "start_time": "2025-03-03T09:58:01.540168Z"
    }
   },
   "outputs": [],
   "source": [
    "def load_and_prepare_data(file_path):\n",
    "    df = pd.read_parquet(file_path)\n",
    "    df['date'] = pd.to_datetime(df['date'])\n",
    "    mask = (df['date'] >= DATE_CONFIG['TRAIN_START']) & (df['date'] <= DATE_CONFIG['TEST_END'])\n",
    "    df = df[mask]\n",
    "    price_matrix = df.pivot(index='date', columns='symbol', values='close')\n",
    "    \n",
    "    price_matrix = price_matrix.ffill().bfill()\n",
    "    \n",
    "    symbols = price_matrix.columns.tolist()\n",
    "    print(f\"Loaded data from {DATE_CONFIG['TRAIN_START']} to {DATE_CONFIG['TEST_END']}\")\n",
    "    print(f\"Total symbols: {len(symbols)}\")\n",
    "    print(f\"Total trading days: {len(price_matrix)}\")\n",
    "    return price_matrix, symbols"
   ]
  },
  {
   "cell_type": "code",
   "execution_count": 4,
   "metadata": {
    "ExecuteTime": {
     "end_time": "2025-03-03T09:58:01.628709Z",
     "start_time": "2025-03-03T09:58:01.592113Z"
    }
   },
   "outputs": [
    {
     "name": "stdout",
     "output_type": "stream",
     "text": [
      "Loaded data from 2021-02-02 00:00:00 to 2025-01-01 00:00:00\n",
      "Total symbols: 94\n",
      "Total trading days: 985\n"
     ]
    }
   ],
   "source": [
    "input_data_path = f\"{base_input_path}{input_filename}\"\n",
    "output_path = f\"{base_output_path}{output_filename}\"\n",
    "\n",
    "price_matrix, symbols = load_and_prepare_data(input_data_path)"
   ]
  },
  {
   "cell_type": "code",
   "execution_count": 5,
   "metadata": {
    "ExecuteTime": {
     "end_time": "2025-03-03T09:58:01.680456Z",
     "start_time": "2025-03-03T09:58:01.677917Z"
    }
   },
   "outputs": [],
   "source": [
    "def get_top_pairs(price_matrix, train_start, train_end, symbols):\n",
    "    train_length = (train_end - train_start).days\n",
    "    pair_selection_end = train_start + pd.Timedelta(days=int(train_length * 0.7))\n",
    "    \n",
    "    selection_mask = (price_matrix.index >= train_start) & (price_matrix.index <= pair_selection_end)\n",
    "    selection_data = price_matrix[selection_mask]\n",
    "    \n",
    "    selection_data = selection_data.ffill().bfill()\n",
    "    \n",
    "    if selection_data.isnull().any().any() or np.isinf(selection_data).any().any():\n",
    "        print(\"Warning: Data contains NaN or Inf values after cleaning\")\n",
    "        selection_data = selection_data.replace([np.inf, -np.inf], np.nan).fillna(method='ffill').fillna(method='bfill')\n",
    "    \n",
    "    score_matrix, pvalue_matrix, pairs, summary_df = analyze_pairs(selection_data, pvalue_threshold=p_threshold)\n",
    "            \n",
    "    return pairs[:min_pairs] if len(pairs) >= min_pairs else pairs"
   ]
  },
  {
   "cell_type": "code",
   "execution_count": 6,
   "metadata": {
    "ExecuteTime": {
     "end_time": "2025-03-03T09:58:01.728449Z",
     "start_time": "2025-03-03T09:58:01.719376Z"
    }
   },
   "outputs": [],
   "source": [
    "def backtest_pairs_rolling(price_matrix, symbols, window_shifts=window_shifts, p_threshold=p_threshold, shift_size=shift_size):\n",
    "    all_trades = []\n",
    "    ongoing_trades = []  \n",
    "    test_start = DATE_CONFIG['TRAIN_END']\n",
    "    window_size = pd.DateOffset(months=shift_size)\n",
    "    \n",
    "    for window_number in range(window_shifts):\n",
    "        month_start = test_start + window_number * window_size\n",
    "        month_end = month_start + window_size\n",
    "        train_start = DATE_CONFIG['TRAIN_START'] + window_number * window_size\n",
    "        train_end = test_start + window_number * window_size\n",
    "        \n",
    "        print(f\"\\nAnalyse {window_number+1}/{window_shifts}\")\n",
    "        print(f\"Training period: {train_start} to {train_end}\")\n",
    "        print(f\"Testing period: {month_start} to {month_end}\")\n",
    "        \n",
    "        updated_ongoing_trades = []\n",
    "        closed_trades = []\n",
    "        \n",
    "        for open_trade in ongoing_trades:\n",
    "            symbol1, symbol2 = open_trade['symbol1'], open_trade['symbol2']\n",
    "            \n",
    "            if symbol1 in price_matrix.columns and symbol2 in price_matrix.columns:\n",
    "                test_mask = (price_matrix.index >= month_start) & (price_matrix.index < month_end)\n",
    "                S1_test = price_matrix[symbol1][test_mask]\n",
    "                S2_test = price_matrix[symbol2][test_mask]\n",
    "                \n",
    "                if S1_test.empty or S2_test.empty:\n",
    "                    updated_ongoing_trades.append(open_trade)\n",
    "                    continue\n",
    "                    \n",
    "                train_data_mask = (price_matrix.index >= train_start) & (price_matrix.index < train_end) \n",
    "                S1_train = price_matrix[symbol1][train_data_mask]\n",
    "                S2_train = price_matrix[symbol2][train_data_mask]\n",
    "                \n",
    "                train_ratio = S1_train / S2_train\n",
    "                train_mean = train_ratio.rolling(window=window2).mean().iloc[-1] \n",
    "                train_std = train_ratio.rolling(window=window2).std().iloc[-1]\n",
    "                \n",
    "                closed = False\n",
    "                for i in range(len(S1_test)):\n",
    "                    current_date = S1_test.index[i]\n",
    "                    current_ratio = S1_test.iloc[i] / S2_test.iloc[i]\n",
    "                    zscore = (current_ratio - train_mean) / train_std\n",
    "                    \n",
    "                    if (open_trade['position'] == -1 and zscore < exit_threshold) or \\\n",
    "                       (open_trade['position'] == 1 and zscore > -exit_threshold):\n",
    "\n",
    "                        for symbol in [symbol1, symbol2]:\n",
    "                            current_price = S1_test.iloc[i] if symbol == symbol1 else S2_test.iloc[i]\n",
    "                            closed_trades.append({\n",
    "                                'trade_id': open_trade['trade_id'],\n",
    "                                'symbol': symbol,\n",
    "                                'entry_date': open_trade['entry_date'],\n",
    "                                'entry_price': open_trade['entry_prices'][symbol]['price'],\n",
    "                                'exit_date': current_date,\n",
    "                                'exit_price': current_price,\n",
    "                                'position_type': open_trade['entry_prices'][symbol]['type'],\n",
    "                                'paired_symbol': symbol2 if symbol == symbol1 else symbol1,\n",
    "                                'exit_type': 'target',\n",
    "                                'window': open_trade['window']\n",
    "                            })\n",
    "                        closed = True\n",
    "                        break\n",
    "                \n",
    "                if not closed:\n",
    "                    updated_ongoing_trades.append(open_trade)\n",
    "        \n",
    "        all_trades.extend(closed_trades)\n",
    "        ongoing_trades = updated_ongoing_trades\n",
    "        \n",
    "        top_pairs = get_top_pairs(price_matrix, train_start, train_end, symbols)\n",
    "        \n",
    "        for pair_idx, (symbol1, symbol2) in enumerate(top_pairs):\n",
    "            training_mask = (price_matrix.index >= train_start) & (price_matrix.index < train_end)\n",
    "            test_mask = (price_matrix.index >= month_start) & (price_matrix.index < month_end)\n",
    "            \n",
    "            S1_train = price_matrix[symbol1][training_mask]\n",
    "            S2_train = price_matrix[symbol2][training_mask]\n",
    "            S1_test = price_matrix[symbol1][test_mask]\n",
    "            S2_test = price_matrix[symbol2][test_mask]\n",
    "            \n",
    "            if S1_test.empty or S2_test.empty:\n",
    "                continue\n",
    "                \n",
    "            train_ratio = S1_train / S2_train\n",
    "            train_mean = train_ratio.rolling(window=window2).mean().iloc[-1] \n",
    "            train_std = train_ratio.rolling(window=window2).std().iloc[-1]\n",
    "            \n",
    "            next_trade_id = len(all_trades) + len(ongoing_trades) + len(closed_trades)\n",
    "            \n",
    "            for i in range(len(S1_test)):\n",
    "                current_ratio = S1_test.iloc[i] / S2_test.iloc[i]\n",
    "                current_date = S1_test.index[i]\n",
    "                \n",
    "                zscore = (current_ratio - train_mean) / train_std\n",
    "\n",
    "                if zscore > entry_threshold:\n",
    "                    entry_date = current_date\n",
    "                    entry_prices = {\n",
    "                        symbol1: {\"price\": S1_test.iloc[i], \"type\": \"short\"},\n",
    "                        symbol2: {\"price\": S2_test.iloc[i], \"type\": \"long\"}\n",
    "                    }\n",
    "\n",
    "                    ongoing_trades.append({\n",
    "                        'trade_id': next_trade_id,\n",
    "                        'symbol1': symbol1,\n",
    "                        'symbol2': symbol2,\n",
    "                        'entry_date': entry_date,\n",
    "                        'entry_prices': entry_prices,\n",
    "                        'position': -1,\n",
    "                        'window': window_number + 1\n",
    "                    })\n",
    "                    next_trade_id += 1\n",
    "                    \n",
    "                elif zscore < -entry_threshold:\n",
    "                    entry_date = current_date\n",
    "                    entry_prices = {\n",
    "                        symbol1: {\"price\": S1_test.iloc[i], \"type\": \"long\"},\n",
    "                        symbol2: {\"price\": S2_test.iloc[i], \"type\": \"short\"}\n",
    "                    }\n",
    "\n",
    "                    ongoing_trades.append({\n",
    "                        'trade_id': next_trade_id,\n",
    "                        'symbol1': symbol1,\n",
    "                        'symbol2': symbol2,\n",
    "                        'entry_date': entry_date,\n",
    "                        'entry_prices': entry_prices,\n",
    "                        'position': 1,\n",
    "                        'window': window_number + 1\n",
    "                    })\n",
    "                    next_trade_id += 1\n",
    "\n",
    "                trades_to_close = []\n",
    "                for idx, trade in enumerate(ongoing_trades):\n",
    "                    if trade['symbol1'] == symbol1 and trade['symbol2'] == symbol2:\n",
    "                        if (trade['position'] == -1 and zscore < exit_threshold) or \\\n",
    "                           (trade['position'] == 1 and zscore > -exit_threshold):\n",
    "                            \n",
    "                            for symbol in [symbol1, symbol2]:\n",
    "                                all_trades.append({\n",
    "                                    'trade_id': trade['trade_id'],\n",
    "                                    'symbol': symbol,\n",
    "                                    'entry_date': trade['entry_date'],\n",
    "                                    'entry_price': trade['entry_prices'][symbol][\"price\"],\n",
    "                                    'exit_date': current_date,\n",
    "                                    'exit_price': S1_test.iloc[i] if symbol == symbol1 else S2_test.iloc[i],\n",
    "                                    'position_type': trade['entry_prices'][symbol][\"type\"],\n",
    "                                    'paired_symbol': symbol2 if symbol == symbol1 else symbol1,\n",
    "                                    'exit_type': 'target',\n",
    "                                    'window': trade['window']\n",
    "                                })\n",
    "                            \n",
    "                            trades_to_close.append(idx)\n",
    "                \n",
    "                for idx in sorted(trades_to_close, reverse=True):\n",
    "                    ongoing_trades.pop(idx)\n",
    "        \n",
    "        print(f\"Closed trades in this window: {len(closed_trades)}\")\n",
    "        print(f\"Currently open trades: {len(ongoing_trades)}\")\n",
    "    \n",
    "\n",
    "    trades_df = pd.DataFrame(all_trades)\n",
    "    \n",
    "    if len(trades_df) > 0:\n",
    "        trades_df.to_parquet(output_path)\n",
    "        \n",
    "        print(\"\\nTrading Summary:\")\n",
    "        print(f\"Total trades: {len(trades_df)}\")\n",
    "        print(f\"Unique pairs traded: {len(trades_df[['symbol', 'paired_symbol']].drop_duplicates())}\")\n",
    "        print(f\"Period: {trades_df['entry_date'].min()} to {trades_df['exit_date'].max()}\")\n",
    "        \n",
    "        print(\"\\nTrades per window:\")\n",
    "        print(trades_df['window'].value_counts().sort_index())\n",
    "        \n",
    "        if 'exit_type' in trades_df.columns:\n",
    "            print(\"\\nExit types:\")\n",
    "            print(trades_df['exit_type'].value_counts())\n",
    "    else:\n",
    "        print(\"No trades generated!\")\n",
    "        \n",
    "    return trades_df"
   ]
  },
  {
   "cell_type": "code",
   "execution_count": 7,
   "metadata": {
    "ExecuteTime": {
     "end_time": "2025-03-03T10:03:13.534934Z",
     "start_time": "2025-03-03T09:58:01.742680Z"
    }
   },
   "outputs": [
    {
     "name": "stdout",
     "output_type": "stream",
     "text": [
      "\n",
      "Analyse 1/12\n",
      "Training period: 2021-02-02 00:00:00 to 2024-01-01 00:00:00\n",
      "Testing period: 2024-01-01 00:00:00 to 2024-02-01 00:00:00\n"
     ]
    },
    {
     "name": "stderr",
     "output_type": "stream",
     "text": [
      "Analyzing pairs: 100%|██████████| 4371/4371 [00:27<00:00, 156.23it/s]\n"
     ]
    },
    {
     "name": "stdout",
     "output_type": "stream",
     "text": [
      "\n",
      "Analysis complete!\n",
      "Found 276 cointegrated pairs\n",
      "Total pairs analyzed: 4371\n",
      "Closed trades in this window: 0\n",
      "Currently open trades: 34\n",
      "\n",
      "Analyse 2/12\n",
      "Training period: 2021-03-02 00:00:00 to 2024-02-01 00:00:00\n",
      "Testing period: 2024-02-01 00:00:00 to 2024-03-01 00:00:00\n"
     ]
    },
    {
     "name": "stderr",
     "output_type": "stream",
     "text": [
      "Analyzing pairs: 100%|██████████| 4371/4371 [00:28<00:00, 152.66it/s]\n"
     ]
    },
    {
     "name": "stdout",
     "output_type": "stream",
     "text": [
      "\n",
      "Analysis complete!\n",
      "Found 307 cointegrated pairs\n",
      "Total pairs analyzed: 4371\n",
      "Closed trades in this window: 50\n",
      "Currently open trades: 182\n",
      "\n",
      "Analyse 3/12\n",
      "Training period: 2021-04-02 00:00:00 to 2024-03-01 00:00:00\n",
      "Testing period: 2024-03-01 00:00:00 to 2024-04-01 00:00:00\n"
     ]
    },
    {
     "name": "stderr",
     "output_type": "stream",
     "text": [
      "Analyzing pairs: 100%|██████████| 4371/4371 [00:27<00:00, 160.72it/s]\n"
     ]
    },
    {
     "name": "stdout",
     "output_type": "stream",
     "text": [
      "\n",
      "Analysis complete!\n",
      "Found 265 cointegrated pairs\n",
      "Total pairs analyzed: 4371\n",
      "Closed trades in this window: 74\n",
      "Currently open trades: 314\n",
      "\n",
      "Analyse 4/12\n",
      "Training period: 2021-05-02 00:00:00 to 2024-04-01 00:00:00\n",
      "Testing period: 2024-04-01 00:00:00 to 2024-05-01 00:00:00\n"
     ]
    },
    {
     "name": "stderr",
     "output_type": "stream",
     "text": [
      "Analyzing pairs: 100%|██████████| 4371/4371 [00:27<00:00, 160.90it/s]\n"
     ]
    },
    {
     "name": "stdout",
     "output_type": "stream",
     "text": [
      "\n",
      "Analysis complete!\n",
      "Found 193 cointegrated pairs\n",
      "Total pairs analyzed: 4371\n",
      "Closed trades in this window: 246\n",
      "Currently open trades: 272\n",
      "\n",
      "Analyse 5/12\n",
      "Training period: 2021-06-02 00:00:00 to 2024-05-01 00:00:00\n",
      "Testing period: 2024-05-01 00:00:00 to 2024-06-01 00:00:00\n"
     ]
    },
    {
     "name": "stderr",
     "output_type": "stream",
     "text": [
      "Analyzing pairs: 100%|██████████| 4371/4371 [00:27<00:00, 160.39it/s]\n"
     ]
    },
    {
     "name": "stdout",
     "output_type": "stream",
     "text": [
      "\n",
      "Analysis complete!\n",
      "Found 283 cointegrated pairs\n",
      "Total pairs analyzed: 4371\n",
      "Closed trades in this window: 226\n",
      "Currently open trades: 315\n",
      "\n",
      "Analyse 6/12\n",
      "Training period: 2021-07-02 00:00:00 to 2024-06-01 00:00:00\n",
      "Testing period: 2024-06-01 00:00:00 to 2024-07-01 00:00:00\n"
     ]
    },
    {
     "name": "stderr",
     "output_type": "stream",
     "text": [
      "Analyzing pairs: 100%|██████████| 4371/4371 [00:26<00:00, 162.88it/s]\n"
     ]
    },
    {
     "name": "stdout",
     "output_type": "stream",
     "text": [
      "\n",
      "Analysis complete!\n",
      "Found 228 cointegrated pairs\n",
      "Total pairs analyzed: 4371\n",
      "Closed trades in this window: 448\n",
      "Currently open trades: 197\n",
      "\n",
      "Analyse 7/12\n",
      "Training period: 2021-08-02 00:00:00 to 2024-07-01 00:00:00\n",
      "Testing period: 2024-07-01 00:00:00 to 2024-08-01 00:00:00\n"
     ]
    },
    {
     "name": "stderr",
     "output_type": "stream",
     "text": [
      "Analyzing pairs: 100%|██████████| 4371/4371 [00:27<00:00, 160.42it/s]\n"
     ]
    },
    {
     "name": "stdout",
     "output_type": "stream",
     "text": [
      "\n",
      "Analysis complete!\n",
      "Found 259 cointegrated pairs\n",
      "Total pairs analyzed: 4371\n",
      "Closed trades in this window: 306\n",
      "Currently open trades: 68\n",
      "\n",
      "Analyse 8/12\n",
      "Training period: 2021-09-02 00:00:00 to 2024-08-01 00:00:00\n",
      "Testing period: 2024-08-01 00:00:00 to 2024-09-01 00:00:00\n"
     ]
    },
    {
     "name": "stderr",
     "output_type": "stream",
     "text": [
      "Analyzing pairs: 100%|██████████| 4371/4371 [00:26<00:00, 162.83it/s]\n"
     ]
    },
    {
     "name": "stdout",
     "output_type": "stream",
     "text": [
      "\n",
      "Analysis complete!\n",
      "Found 332 cointegrated pairs\n",
      "Total pairs analyzed: 4371\n",
      "Closed trades in this window: 90\n",
      "Currently open trades: 147\n",
      "\n",
      "Analyse 9/12\n",
      "Training period: 2021-10-02 00:00:00 to 2024-09-01 00:00:00\n",
      "Testing period: 2024-09-01 00:00:00 to 2024-10-01 00:00:00\n"
     ]
    },
    {
     "name": "stderr",
     "output_type": "stream",
     "text": [
      "Analyzing pairs: 100%|██████████| 4371/4371 [00:27<00:00, 161.82it/s]\n"
     ]
    },
    {
     "name": "stdout",
     "output_type": "stream",
     "text": [
      "\n",
      "Analysis complete!\n",
      "Found 298 cointegrated pairs\n",
      "Total pairs analyzed: 4371\n",
      "Closed trades in this window: 60\n",
      "Currently open trades: 159\n",
      "\n",
      "Analyse 10/12\n",
      "Training period: 2021-11-02 00:00:00 to 2024-10-01 00:00:00\n",
      "Testing period: 2024-10-01 00:00:00 to 2024-11-01 00:00:00\n"
     ]
    },
    {
     "name": "stderr",
     "output_type": "stream",
     "text": [
      "Analyzing pairs: 100%|██████████| 4371/4371 [00:27<00:00, 158.88it/s]\n"
     ]
    },
    {
     "name": "stdout",
     "output_type": "stream",
     "text": [
      "\n",
      "Analysis complete!\n",
      "Found 371 cointegrated pairs\n",
      "Total pairs analyzed: 4371\n",
      "Closed trades in this window: 210\n",
      "Currently open trades: 205\n",
      "\n",
      "Analyse 11/12\n",
      "Training period: 2021-12-02 00:00:00 to 2024-11-01 00:00:00\n",
      "Testing period: 2024-11-01 00:00:00 to 2024-12-01 00:00:00\n"
     ]
    },
    {
     "name": "stderr",
     "output_type": "stream",
     "text": [
      "Analyzing pairs: 100%|██████████| 4371/4371 [00:27<00:00, 160.75it/s]\n"
     ]
    },
    {
     "name": "stdout",
     "output_type": "stream",
     "text": [
      "\n",
      "Analysis complete!\n",
      "Found 266 cointegrated pairs\n",
      "Total pairs analyzed: 4371\n",
      "Closed trades in this window: 58\n",
      "Currently open trades: 277\n",
      "\n",
      "Analyse 12/12\n",
      "Training period: 2022-01-02 00:00:00 to 2024-12-01 00:00:00\n",
      "Testing period: 2024-12-01 00:00:00 to 2025-01-01 00:00:00\n"
     ]
    },
    {
     "name": "stderr",
     "output_type": "stream",
     "text": [
      "Analyzing pairs: 100%|██████████| 4371/4371 [00:27<00:00, 161.35it/s]\n"
     ]
    },
    {
     "name": "stdout",
     "output_type": "stream",
     "text": [
      "\n",
      "Analysis complete!\n",
      "Found 501 cointegrated pairs\n",
      "Total pairs analyzed: 4371\n",
      "Closed trades in this window: 168\n",
      "Currently open trades: 313\n",
      "\n",
      "Trading Summary:\n",
      "Total trades: 2118\n",
      "Unique pairs traded: 104\n",
      "Period: 2024-01-02 00:00:00 to 2024-12-18 00:00:00\n",
      "\n",
      "Trades per window:\n",
      "window\n",
      "1      70\n",
      "2     348\n",
      "3     342\n",
      "4     164\n",
      "5     366\n",
      "6     230\n",
      "7      72\n",
      "8     180\n",
      "9      90\n",
      "10    214\n",
      "11     42\n",
      "Name: count, dtype: int64\n",
      "\n",
      "Exit types:\n",
      "exit_type\n",
      "target    2118\n",
      "Name: count, dtype: int64\n"
     ]
    }
   ],
   "source": [
    "trades_df = backtest_pairs_rolling(\n",
    "    price_matrix=price_matrix,\n",
    "    symbols=symbols,\n",
    "    window_shifts=window_shifts\n",
    ")"
   ]
  }
 ],
 "metadata": {
  "kernelspec": {
   "display_name": "Python 3",
   "language": "python",
   "name": "python3"
  },
  "language_info": {
   "codemirror_mode": {
    "name": "ipython",
    "version": 3
   },
   "file_extension": ".py",
   "mimetype": "text/x-python",
   "name": "python",
   "nbconvert_exporter": "python",
   "pygments_lexer": "ipython3",
   "version": "3.9.6"
  }
 },
 "nbformat": 4,
 "nbformat_minor": 2
}

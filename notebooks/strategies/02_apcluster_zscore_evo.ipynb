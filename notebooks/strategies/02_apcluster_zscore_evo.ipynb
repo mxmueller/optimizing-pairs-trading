{
 "cells": [
  {
   "cell_type": "code",
   "execution_count": 1,
   "metadata": {
    "ExecuteTime": {
     "end_time": "2025-03-06T10:10:00.629955Z",
     "start_time": "2025-03-06T10:09:59.070304Z"
    }
   },
   "outputs": [
    {
     "name": "stdout",
     "output_type": "stream",
     "text": [
      "Defaulting to user installation because normal site-packages is not writeable\n",
      "Requirement already satisfied: kneed in /Users/MUMAXI2/Library/Python/3.9/lib/python/site-packages (0.8.5)\n",
      "Requirement already satisfied: numpy>=1.14.2 in /Users/MUMAXI2/Library/Python/3.9/lib/python/site-packages (from kneed) (2.0.2)\n",
      "Requirement already satisfied: scipy>=1.0.0 in /Users/MUMAXI2/Library/Python/3.9/lib/python/site-packages (from kneed) (1.13.1)\n",
      "\u001b[33mWARNING: You are using pip version 21.2.4; however, version 25.1.1 is available.\n",
      "You should consider upgrading via the '/Library/Developer/CommandLineTools/usr/bin/python3 -m pip install --upgrade pip' command.\u001b[0m\n"
     ]
    }
   ],
   "source": [
    "!pip3 install kneed"
   ]
  },
  {
   "cell_type": "code",
   "execution_count": 2,
   "metadata": {
    "ExecuteTime": {
     "end_time": "2025-03-06T10:10:00.639663Z",
     "start_time": "2025-03-06T10:10:00.636337Z"
    }
   },
   "outputs": [],
   "source": [
    "import sys\n",
    "sys.path.append(\"../../\")\n",
    "\n",
    "from src.statistics.cointegration import find_cointegrated_pairs, analyze_pairs, plot_cointegration_heatmap\n",
    "from datetime import datetime, timedelta\n",
    "import pandas as pd\n",
    "import numpy as np\n",
    "from statsmodels.tsa.stattools import coint\n",
    "import seaborn as sns\n",
    "import matplotlib.pyplot as plt\n",
    "from sklearn.preprocessing import StandardScaler\n",
    "from tqdm import tqdm\n",
    "from sklearn.cluster import KMeans\n",
    "from sklearn import metrics\n",
    "from kneed import KneeLocator\n",
    "from sklearn.cluster import AffinityPropagation\n",
    "from sklearn.manifold import TSNE\n",
    "import matplotlib.cm as cm\n",
    "\n",
    "import warnings\n",
    "warnings.filterwarnings('ignore')"
   ]
  },
  {
   "cell_type": "markdown",
   "metadata": {},
   "source": [
    "`preference` postiv -> less cluster "
   ]
  },
  {
   "cell_type": "code",
   "execution_count": 3,
   "metadata": {
    "ExecuteTime": {
     "end_time": "2025-03-06T10:10:00.656366Z",
     "start_time": "2025-03-06T10:10:00.654233Z"
    },
    "tags": [
     "parameters"
    ]
   },
   "outputs": [],
   "source": [
    "p_threshold = 0.05\n",
    "min_pairs = 20\n",
    "\n",
    "window_shifts = 12\n",
    "shift_size = 1\n",
    "\n",
    "entry_threshold = 2.0\n",
    "exit_threshold = 0.5\n",
    "window1 = 5 \n",
    "window2 = 60\n",
    "\n",
    "preference = None\n",
    "\n",
    "# on ftse, -50 ±3 Cluster\n",
    "\n",
    "base_input_path = \"../../data/raw/\" \n",
    "input_filename = \"ftse_daily.parquet\" \n",
    "base_output_path = \"../../data/results/\" \n",
    "output_filename = \"Cluster_Z-Score_Sliding.parquet\""
   ]
  },
  {
   "cell_type": "code",
   "execution_count": 4,
   "metadata": {
    "ExecuteTime": {
     "end_time": "2025-03-06T10:10:00.672090Z",
     "start_time": "2025-03-06T10:10:00.668636Z"
    }
   },
   "outputs": [],
   "source": [
    "TRAIN_START = pd.Timestamp('2021-02-02')\n",
    "TRAIN_END = pd.Timestamp('2024-01-01')\n",
    "TEST_END = pd.Timestamp('2025-01-01')\n",
    "TRADING_DAYS_PER_YEAR = 252\n",
    "\n",
    "DATE_CONFIG = {\n",
    "    'TRAIN_START': TRAIN_START,\n",
    "    'TRAIN_END': TRAIN_END,\n",
    "    'TEST_END': TEST_END,\n",
    "    'TRADING_DAYS_PER_YEAR': TRADING_DAYS_PER_YEAR  \n",
    "}\n",
    "\n",
    "def get_training_period():\n",
    "    return {\n",
    "        'start': DATE_CONFIG['TRAIN_START'],\n",
    "        'end': DATE_CONFIG['TRAIN_END']\n",
    "    }\n",
    "\n",
    "def get_test_period():\n",
    "    return {\n",
    "        'start': DATE_CONFIG['TRAIN_END'],\n",
    "        'end': DATE_CONFIG['TEST_END']\n",
    "    }\n",
    "\n",
    "def get_training_days():\n",
    "    years = (DATE_CONFIG['TRAIN_END'] - DATE_CONFIG['TRAIN_START']).days / 365\n",
    "    return int(years * DATE_CONFIG['TRADING_DAYS_PER_YEAR'])\n",
    "\n",
    "# Plot settings\n",
    "plt.style.use('classic')\n",
    "plt.rcParams['figure.figsize'] = [12, 6]\n",
    "plt.rcParams['figure.dpi'] = 100"
   ]
  },
  {
   "cell_type": "code",
   "execution_count": 5,
   "metadata": {
    "ExecuteTime": {
     "end_time": "2025-03-06T10:10:00.687330Z",
     "start_time": "2025-03-06T10:10:00.684734Z"
    }
   },
   "outputs": [],
   "source": [
    "def load_and_prepare_data(file_path):\n",
    "    df = pd.read_parquet(file_path)\n",
    "    df['date'] = pd.to_datetime(df['date'])\n",
    "    \n",
    "    mask = (df['date'] >= DATE_CONFIG['TRAIN_START']) & (df['date'] <= DATE_CONFIG['TEST_END'])\n",
    "    df = df[mask]\n",
    "    \n",
    "    price_matrix = df.pivot(index='date', columns='symbol', values='close')\n",
    "    \n",
    "    price_matrix = price_matrix.ffill().bfill()\n",
    "    \n",
    "    symbols = price_matrix.columns.tolist()\n",
    "    \n",
    "    print(f\"Loaded data from {DATE_CONFIG['TRAIN_START']} to {DATE_CONFIG['TEST_END']}\")\n",
    "    print(f\"Total symbols: {len(symbols)}\")\n",
    "    print(f\"Total trading days: {len(price_matrix)}\")\n",
    "    \n",
    "    return price_matrix, symbols"
   ]
  },
  {
   "cell_type": "markdown",
   "metadata": {},
   "source": [
    "##### Loade Price Data"
   ]
  },
  {
   "cell_type": "code",
   "execution_count": 6,
   "metadata": {
    "ExecuteTime": {
     "end_time": "2025-03-06T10:10:00.742695Z",
     "start_time": "2025-03-06T10:10:00.707829Z"
    }
   },
   "outputs": [
    {
     "name": "stdout",
     "output_type": "stream",
     "text": [
      "Loaded data from 2021-02-02 00:00:00 to 2025-01-01 00:00:00\n",
      "Total symbols: 98\n",
      "Total trading days: 987\n"
     ]
    }
   ],
   "source": [
    "input_data_path = f\"{base_input_path}{input_filename}\"\n",
    "output_path = f\"{base_output_path}{output_filename}\"\n",
    "\n",
    "price_matrix, symbols = load_and_prepare_data(input_data_path)"
   ]
  },
  {
   "cell_type": "markdown",
   "metadata": {},
   "source": [
    "\n",
    "$$ \\text{Rendite} = \\frac{1}{T} \\sum_{t=1}^{T} \\frac{P_t - P_{t-1}}{P_{t-1}} \\times \\text{Trading days per year} $$\n",
    "\n",
    "\n",
    "$$ \\text{Volatilität} = \\sqrt{\\frac{1}{T-1} \\sum_{t=1}^{T} \\left( \\frac{P_t - P_{t-1}}{P_{t-1}} - \\mu \\right)^2} \\times \\sqrt{\\text{Trading days per year}} $$\n"
   ]
  },
  {
   "cell_type": "code",
   "execution_count": 7,
   "metadata": {
    "ExecuteTime": {
     "end_time": "2025-03-06T10:10:00.755826Z",
     "start_time": "2025-03-06T10:10:00.753805Z"
    }
   },
   "outputs": [],
   "source": [
    "def calculate_metrics(price_matrix):\n",
    "    returns = price_matrix.pct_change().mean() * DATE_CONFIG['TRADING_DAYS_PER_YEAR']\n",
    "    metrics = pd.DataFrame(returns, columns=['returns'])\n",
    "    metrics['volatility'] = price_matrix.pct_change().std() * np.sqrt(DATE_CONFIG['TRADING_DAYS_PER_YEAR'])\n",
    "    return metrics"
   ]
  },
  {
   "cell_type": "markdown",
   "metadata": {},
   "source": [
    "##### Validate metrics"
   ]
  },
  {
   "cell_type": "code",
   "execution_count": 8,
   "metadata": {
    "ExecuteTime": {
     "end_time": "2025-03-06T10:10:00.869142Z",
     "start_time": "2025-03-06T10:10:00.766624Z"
    }
   },
   "outputs": [
    {
     "name": "stdout",
     "output_type": "stream",
     "text": [
      "Erste 5 Zeilen der Metriken:\n",
      "         returns  volatility\n",
      "symbol                      \n",
      "AAF.L   0.182975    0.336650\n",
      "AAL.L   0.118102    0.403779\n",
      "ABF.L   0.027631    0.250263\n",
      "ADM.L   0.041431    0.272685\n",
      "AHT.L   0.127775    0.317220\n",
      "\n",
      "Beschreibung der Metriken:\n",
      "         returns  volatility\n",
      "count  98.000000   98.000000\n",
      "mean    0.105918    0.273853\n",
      "std     0.115051    0.059466\n",
      "min    -0.111803    0.154173\n",
      "25%     0.027157    0.236768\n",
      "50%     0.094072    0.265661\n",
      "75%     0.171602    0.306870\n",
      "max     0.552316    0.437505\n"
     ]
    }
   ],
   "source": [
    "metrics = calculate_metrics(price_matrix)\n",
    "print(\"Erste 5 Zeilen der Metriken:\")\n",
    "print(metrics.head())\n",
    "print(\"\\nBeschreibung der Metriken:\")\n",
    "print(metrics.describe())"
   ]
  },
  {
   "cell_type": "markdown",
   "metadata": {},
   "source": [
    "##### Scale Transform\n",
    "The StandardScaler transforms our features (returns and volatility) to have zero mean and unit variance, which eliminates the scale difference between our variables and prevents higher magnitude features from dominating. This standardization is crucial for many machine learning algorithms as it ensures that all features contribute equally to the model and helps prevent numerical instabilities during the optimization process."
   ]
  },
  {
   "cell_type": "code",
   "execution_count": 9,
   "metadata": {
    "ExecuteTime": {
     "end_time": "2025-03-06T10:10:00.882959Z",
     "start_time": "2025-03-06T10:10:00.881201Z"
    }
   },
   "outputs": [],
   "source": [
    "def scale_metrics(metrics):\n",
    "    scaler = StandardScaler()\n",
    "    scaled = pd.DataFrame(\n",
    "        scaler.fit_transform(metrics),\n",
    "        columns=metrics.columns,\n",
    "        index=metrics.index\n",
    "    )\n",
    "    return scaled"
   ]
  },
  {
   "cell_type": "code",
   "execution_count": 10,
   "metadata": {
    "ExecuteTime": {
     "end_time": "2025-03-06T10:10:00.899446Z",
     "start_time": "2025-03-06T10:10:00.893955Z"
    }
   },
   "outputs": [
    {
     "name": "stdout",
     "output_type": "stream",
     "text": [
      "Erste 5 Zeilen der skalierten Daten:\n",
      "         returns  volatility\n",
      "symbol                      \n",
      "AAF.L   0.673205    1.061455\n",
      "AAL.L   0.106443    2.196133\n",
      "ABF.L  -0.683956   -0.398740\n",
      "ADM.L  -0.563392   -0.019739\n",
      "AHT.L   0.190950    0.733035\n",
      "\n",
      "Beschreibung der skalierten Daten:\n",
      "            returns    volatility\n",
      "count  9.800000e+01  9.800000e+01\n",
      "mean  -1.586033e-17 -5.092298e-16\n",
      "std    1.005141e+00  1.005141e+00\n",
      "min   -1.902126e+00 -2.022928e+00\n",
      "25%   -6.880970e-01 -6.268293e-01\n",
      "50%   -1.034959e-01 -1.384636e-01\n",
      "75%    5.738475e-01  5.580961e-01\n",
      "max    3.899964e+00  2.766195e+00\n"
     ]
    }
   ],
   "source": [
    "X = scale_metrics(metrics)\n",
    "print(\"Erste 5 Zeilen der skalierten Daten:\")\n",
    "print(X.head())\n",
    "print(\"\\nBeschreibung der skalierten Daten:\")\n",
    "print(X.describe())"
   ]
  },
  {
   "cell_type": "code",
   "execution_count": 11,
   "metadata": {
    "ExecuteTime": {
     "end_time": "2025-03-06T10:10:00.921427Z",
     "start_time": "2025-03-06T10:10:00.915307Z"
    }
   },
   "outputs": [],
   "source": [
    "def get_top_pairs(X, ap, price_matrix, min_pairs=min_pairs, p_threshold=p_threshold):\n",
    "    scores = []\n",
    "    \n",
    "    for cluster_id in np.unique(ap.labels_):\n",
    "        cluster_mask = ap.labels_ == cluster_id\n",
    "        cluster_symbols = X.index[cluster_mask]\n",
    "        center = X.iloc[ap.cluster_centers_indices_[cluster_id]]\n",
    "        \n",
    "        for i in range(len(cluster_symbols)):\n",
    "            for j in range(i+1, len(cluster_symbols)):\n",
    "                symbol1, symbol2 = cluster_symbols[i], cluster_symbols[j]\n",
    "                \n",
    "                dist1 = np.linalg.norm(X.loc[symbol1] - center)\n",
    "                dist2 = np.linalg.norm(X.loc[symbol2] - center)\n",
    "                center_dist = (dist1 + dist2) / 2\n",
    "                \n",
    "                profile_diff = np.linalg.norm(X.loc[symbol1] - X.loc[symbol2])\n",
    "                \n",
    "                series1 = price_matrix[symbol1]\n",
    "                series2 = price_matrix[symbol2]\n",
    "                score, pvalue, _ = coint(series1, series2)\n",
    "                \n",
    "                if pvalue < p_threshold:\n",
    "                    scores.append({\n",
    "                        'pair': (symbol1, symbol2),\n",
    "                        'center_dist': center_dist,\n",
    "                        'profile_diff': profile_diff,\n",
    "                        'pvalue': pvalue,\n",
    "                        'cluster': cluster_id\n",
    "                    })\n",
    "\n",
    "    scores_df = pd.DataFrame(scores)\n",
    "    \n",
    "    # Überprüfen, ob die DataFrame leer ist\n",
    "    if len(scores_df) == 0:\n",
    "        print(f\"Keine cointegrierten Paare mit p-value < {p_threshold} gefunden.\")\n",
    "        return [], pd.DataFrame()\n",
    "    \n",
    "    scores_df['center_dist_norm'] = (scores_df['center_dist'] - scores_df['center_dist'].min()) / \\\n",
    "                                   (scores_df['center_dist'].max() - scores_df['center_dist'].min())\n",
    "    scores_df['profile_diff_norm'] = (scores_df['profile_diff'] - scores_df['profile_diff'].min()) / \\\n",
    "                                    (scores_df['profile_diff'].max() - scores_df['profile_diff'].min())\n",
    "\n",
    "    scores_df['combined_score'] = 0.6 * scores_df['center_dist_norm'] + \\\n",
    "                                 0.4 * scores_df['profile_diff_norm']\n",
    "    \n",
    "    scores_df = scores_df.sort_values('combined_score')\n",
    "    \n",
    "    while len(scores_df) < min_pairs and p_threshold < 0.1:\n",
    "        p_threshold += 0.05\n",
    "        scores = []\n",
    "        for cluster_id in np.unique(ap.labels_):\n",
    "            cluster_mask = ap.labels_ == cluster_id\n",
    "            cluster_symbols = X.index[cluster_mask]\n",
    "            center = X.iloc[ap.cluster_centers_indices_[cluster_id]]\n",
    "            \n",
    "            for i in range(len(cluster_symbols)):\n",
    "                for j in range(i+1, len(cluster_symbols)):\n",
    "                    symbol1, symbol2 = cluster_symbols[i], cluster_symbols[j]\n",
    "                    dist1 = np.linalg.norm(X.loc[symbol1] - center)\n",
    "                    dist2 = np.linalg.norm(X.loc[symbol2] - center)\n",
    "                    center_dist = (dist1 + dist2) / 2\n",
    "                    profile_diff = np.linalg.norm(X.loc[symbol1] - X.loc[symbol2])\n",
    "                    score, pvalue, _ = coint(series1, series2)\n",
    "                    \n",
    "                    if pvalue < p_threshold:\n",
    "                        scores.append({\n",
    "                            'pair': (symbol1, symbol2),\n",
    "                            'center_dist': center_dist,\n",
    "                            'profile_diff': profile_diff,\n",
    "                            'pvalue': pvalue,\n",
    "                            'cluster': cluster_id\n",
    "                        })\n",
    "        \n",
    "        scores_df = pd.DataFrame(scores)\n",
    "        if len(scores) > 0:\n",
    "            scores_df['center_dist_norm'] = (scores_df['center_dist'] - scores_df['center_dist'].min()) / \\\n",
    "                                          (scores_df['center_dist'].max() - scores_df['center_dist'].min())\n",
    "            scores_df['profile_diff_norm'] = (scores_df['profile_diff'] - scores_df['profile_diff'].min()) / \\\n",
    "                                           (scores_df['profile_diff'].max() - scores_df['profile_diff'].min())\n",
    "            scores_df['combined_score'] = 0.6 * scores_df['center_dist_norm'] + \\\n",
    "                                        0.4 * scores_df['profile_diff_norm']\n",
    "            scores_df = scores_df.sort_values('combined_score')\n",
    "    \n",
    "    num_pairs = min(len(scores_df), min_pairs)\n",
    "    print(f\"Found {len(scores_df)} pairs with p-value < {p_threshold}\")\n",
    "    return scores_df['pair'].tolist()[:num_pairs], scores_df[:num_pairs]"
   ]
  },
  {
   "cell_type": "markdown",
   "metadata": {},
   "source": [
    "# Affinity Propagation Clustering"
   ]
  },
  {
   "cell_type": "code",
   "execution_count": 12,
   "metadata": {
    "ExecuteTime": {
     "end_time": "2025-03-06T10:10:20.498966Z",
     "start_time": "2025-03-06T10:10:00.932705Z"
    }
   },
   "outputs": [
    {
     "data": {
      "image/png": "[encoded data removed]",
      "text/plain": [
       "<Figure size 1500x1000 with 2 Axes>"
      ]
     },
     "metadata": {},
     "output_type": "display_data"
    },
    {
     "name": "stdout",
     "output_type": "stream",
     "text": [
      "Found 43 pairs with p-value < 0.05\n",
      "\n",
      "Top pairs details:\n",
      "                pair  center_dist  profile_diff    pvalue  combined_score  \\\n",
      "30    (SDR.L, SPX.L)     0.039779      0.079558  0.036332        0.018439   \n",
      "0     (ABF.L, BKG.L)     0.078640      0.157280  0.023908        0.106946   \n",
      "22  (LGEN.L, SBRY.L)     0.165391      0.330782  0.000359        0.304524   \n",
      "12  (EXPN.L, LGEN.L)     0.219993      0.223420  0.017537        0.324879   \n",
      "38   (LAND.L, WTB.L)     0.176599      0.353197  0.025810        0.330049   \n",
      "33   (LAND.L, RIO.L)     0.231029      0.268073  0.017330        0.360858   \n",
      "5   (AUTO.L, EXPN.L)     0.218110      0.323995  0.017842        0.370699   \n",
      "40   (RIO.L, WEIR.L)     0.234387      0.418362  0.013752        0.437455   \n",
      "16   (IMI.L, SBRY.L)     0.232493      0.464986  0.004226        0.457350   \n",
      "41    (RIO.L, WPP.L)     0.271601      0.359730  0.048819        0.458311   \n",
      "32   (CTEC.L, WPP.L)     0.366768      0.135161  0.047398        0.475804   \n",
      "17    (INF.L, MNG.L)     0.403998      0.041163  0.034321        0.479698   \n",
      "37   (LAND.L, WPP.L)     0.393769      0.100110  0.029940        0.494534   \n",
      "35    (LAND.L, TW.L)     0.262901      0.501442  0.010999        0.514907   \n",
      "6    (AUTO.L, NXT.L)     0.389744      0.161778  0.018836        0.518847   \n",
      "11    (CCH.L, IMI.L)     0.267597      0.533807  0.035797        0.536635   \n",
      "8      (AV.L, PSH.L)     0.398083      0.185065  0.014591        0.541014   \n",
      "2    (FRES.L, STJ.L)     0.285417      0.570833  0.008868        0.577886   \n",
      "28    (MNG.L, PSH.L)     0.381405      0.343345  0.022296        0.595060   \n",
      "36  (LAND.L, WEIR.L)     0.356555      0.471408  0.022595        0.623832   \n",
      "\n",
      "    cluster  \n",
      "30        8  \n",
      "0         1  \n",
      "22        7  \n",
      "12        7  \n",
      "38       11  \n",
      "33       11  \n",
      "5         7  \n",
      "40       11  \n",
      "16        7  \n",
      "41       11  \n",
      "32       11  \n",
      "17        7  \n",
      "37       11  \n",
      "35       11  \n",
      "6         7  \n",
      "11        7  \n",
      "8         7  \n",
      "2         3  \n",
      "28        7  \n",
      "36       11  \n"
     ]
    }
   ],
   "source": [
    "if preference is None:\n",
    "    ap = AffinityPropagation()\n",
    "else:\n",
    "    ap = AffinityPropagation(preference=preference)\n",
    "ap.fit(X)\n",
    "labels1 = ap.predict(X) #1\n",
    "\n",
    "fig = plt.figure(figsize=(15,10))\n",
    "ax = fig.add_subplot(111)\n",
    "scatter = ax.scatter(X.iloc[:,0], X.iloc[:,1], c=labels1, cmap='rainbow')\n",
    "ax.set_title('Affinity Propagation Clustering Results')\n",
    "ax.set_xlabel('Mean Return')\n",
    "ax.set_ylabel('Volatility')\n",
    "plt.colorbar(scatter)\n",
    "plt.show()\n",
    "\n",
    "top_pairs, scores_df = get_top_pairs(X, ap, price_matrix, min_pairs=min_pairs)\n",
    "\n",
    "print(\"\\nTop pairs details:\")\n",
    "if not scores_df.empty:\n",
    "    print(scores_df[['pair', 'center_dist', 'profile_diff', 'pvalue', 'combined_score', 'cluster']])\n",
    "else:\n",
    "    print(\"Keine Paare gefunden.\")"
   ]
  },
  {
   "cell_type": "code",
   "execution_count": 15,
   "metadata": {
    "ExecuteTime": {
     "end_time": "2025-03-06T10:10:20.688790Z",
     "start_time": "2025-03-06T10:10:20.563817Z"
    }
   },
   "outputs": [
    {
     "name": "stdout",
     "output_type": "stream",
     "text": [
      "The number of clusters is: 12\n"
     ]
    },
    {
     "data": {
      "text/plain": [
       "<Figure size 1200x600 with 0 Axes>"
      ]
     },
     "metadata": {},
     "output_type": "display_data"
    },
    {
     "data": {
      "image/png": "[encoded data removed]",
      "text/plain": [
       "<Figure size 1500x1000 with 1 Axes>"
      ]
     },
     "metadata": {},
     "output_type": "display_data"
    }
   ],
   "source": [
    "from itertools import cycle\n",
    "\n",
    "#Extract the cluster centers and labels\n",
    "cci = ap.cluster_centers_indices_\n",
    "labels2 = ap.labels_\n",
    "\n",
    "#Print their number\n",
    "clusters = len(cci)\n",
    "print('The number of clusters is:',clusters)\n",
    "\n",
    "#Plot the results\n",
    "X_ap = np.asarray(X)\n",
    "plt.close('all')\n",
    "plt.figure(1)\n",
    "plt.clf\n",
    "fig=plt.figure(figsize=(15,10))\n",
    "colors = cycle('cmykrgbcmykrgbcmykrgbcmykrgb')\n",
    "for k, col in zip(range(clusters),colors):\n",
    "    cluster_members = labels2 == k\n",
    "    cluster_center = X_ap[cci[k]]\n",
    "    plt.plot(X_ap[cluster_members, 0], X_ap[cluster_members, 1], col + '.')\n",
    "    plt.plot(cluster_center[0], cluster_center[1], 'o', markerfacecolor=col, markeredgecolor='k', markersize=12)\n",
    "    for x in X_ap[cluster_members]:\n",
    "        plt.plot([cluster_center[0], x[0]], [cluster_center[1], x[1]], col)\n",
    "\n",
    "plt.title('Affinity Propagation Clustering Results with Connections')\n",
    "plt.xlabel('Mean Return')\n",
    "plt.ylabel('Volatility')\n",
    "plt.show()"
   ]
  },
  {
   "cell_type": "code",
   "execution_count": null,
   "metadata": {
    "ExecuteTime": {
     "end_time": "2025-03-06T10:10:20.703680Z",
     "start_time": "2025-03-06T10:10:20.700938Z"
    }
   },
   "outputs": [],
   "source": [
    "clustered_series_ap = pd.Series(index=X.index, data=ap.labels_.flatten())\n",
    "\n",
    "cluster_size_limit = 1000\n",
    "counts = clustered_series_ap.value_counts()\n",
    "ticker_count = counts[(counts>1) & (counts<=cluster_size_limit)]\n",
    "print(\"Number of clusters:\", len(ticker_count))\n",
    "print(\"Number of Pairs:\", (ticker_count*(ticker_count-1)).sum())"
   ]
  },
  {
   "cell_type": "code",
   "execution_count": null,
   "metadata": {
    "ExecuteTime": {
     "end_time": "2025-03-06T10:10:40.517172Z",
     "start_time": "2025-03-06T10:10:20.715462Z"
    }
   },
   "outputs": [],
   "source": [
    "all_pairs_with_clusters = []\n",
    "\n",
    "for cluster_id in np.unique(ap.labels_):\n",
    "    cluster_mask = ap.labels_ == cluster_id\n",
    "    cluster_symbols = X.index[cluster_mask]\n",
    "    \n",
    "    if len(cluster_symbols) > 1:\n",
    "        cluster_prices = price_matrix[cluster_symbols]\n",
    "        score_matrix, pvalue_matrix, pairs, _ = analyze_pairs(\n",
    "            cluster_prices,\n",
    "            pvalue_threshold=p_threshold\n",
    "        )\n",
    "        \n",
    "        if len(pairs) > 0:\n",
    "            for pair in pairs:\n",
    "                all_pairs_with_clusters.append({\n",
    "                    'pair': pair,\n",
    "                    'cluster': cluster_id\n",
    "                })\n",
    "            print(f\"\\nCluster {cluster_id} pairs:\")\n",
    "            for pair in pairs:\n",
    "                print(f\"{pair[0]} - {pair[1]}\")\n",
    "                \n",
    "            plot_cointegration_heatmap(pvalue_matrix, cluster_symbols)\n",
    "\n",
    "all_pairs = [item['pair'] for item in all_pairs_with_clusters]"
   ]
  },
  {
   "cell_type": "code",
   "execution_count": null,
   "metadata": {
    "ExecuteTime": {
     "end_time": "2025-03-06T10:10:40.534863Z",
     "start_time": "2025-03-06T10:10:40.532004Z"
    }
   },
   "outputs": [],
   "source": [
    "stocks = np.unique([stock for pair in top_pairs for stock in pair])\n",
    "X_data = pd.DataFrame(index=X.index, data=X).T  \n",
    "in_pairs_series = pd.Series(index=stocks, data=[ap.labels_[list(X.index).index(stock)] for stock in stocks])\n",
    "X_pairs = X_data.T.loc[stocks]"
   ]
  },
  {
   "cell_type": "code",
   "execution_count": null,
   "metadata": {
    "ExecuteTime": {
     "end_time": "2025-03-06T10:10:40.732078Z",
     "start_time": "2025-03-06T10:10:40.551485Z"
    }
   },
   "outputs": [],
   "source": [
    "X_tsne = TSNE(learning_rate=30, perplexity=5, random_state=42, n_jobs=-1).fit_transform(X_pairs)"
   ]
  },
  {
   "cell_type": "code",
   "execution_count": null,
   "metadata": {
    "ExecuteTime": {
     "end_time": "2025-03-06T10:10:40.950080Z",
     "start_time": "2025-03-06T10:10:40.751273Z"
    }
   },
   "outputs": [],
   "source": [
    "plt.figure(figsize=(20,12), facecolor='white')\n",
    "plt.clf()\n",
    "plt.gca().set_facecolor('#f8f9fa')\n",
    "plt.grid(True, linestyle='--', alpha=0.7)\n",
    "\n",
    "for pair in top_pairs:\n",
    "    cluster = scores_df[scores_df['pair'] == pair]['cluster'].values[0]\n",
    "    loc1 = X_pairs.index.get_loc(pair[0])\n",
    "    loc2 = X_pairs.index.get_loc(pair[1])\n",
    "    x1, y1 = X_tsne[loc1, :]\n",
    "    x2, y2 = X_tsne[loc2, :]\n",
    "    plt.plot([x1, x2], [y1, y2], '-', alpha=0.4, linewidth=1.5, color='#4a90e2')\n",
    "\n",
    "scatter = plt.scatter(X_tsne[:, 0], X_tsne[:, 1], \n",
    "                     s=300,\n",
    "                     alpha=0.7,\n",
    "                     c=in_pairs_series.values,\n",
    "                     cmap='tab20',\n",
    "                     edgecolor='white',\n",
    "                     linewidth=2)\n",
    "\n",
    "for x, y, name in zip(X_tsne[:,0], X_tsne[:,1], X_pairs.index):\n",
    "    plt.annotate(name,\n",
    "                (x,y),\n",
    "                textcoords=\"offset points\",\n",
    "                xytext=(0,10),\n",
    "                ha='center',\n",
    "                va='bottom',\n",
    "                fontsize=11,\n",
    "                fontweight='bold',\n",
    "                bbox=dict(facecolor='white', \n",
    "                         edgecolor='none',\n",
    "                         alpha=0.7,\n",
    "                         pad=1))\n",
    "\n",
    "plt.title('Stock Pairs Clustering Visualization (Same Cluster Only)', \n",
    "          fontsize=16, \n",
    "          pad=20,\n",
    "          fontweight='bold')\n",
    "\n",
    "plt.axis('off')\n",
    "plt.colorbar(scatter, label='Cluster')\n",
    "plt.tight_layout()\n",
    "plt.show()"
   ]
  },
  {
   "cell_type": "code",
   "execution_count": null,
   "metadata": {
    "ExecuteTime": {
     "end_time": "2025-03-06T10:10:40.972919Z",
     "start_time": "2025-03-06T10:10:40.967759Z"
    }
   },
   "outputs": [],
   "source": [
    "def trade(S1_train, S2_train, S1_test, S2_test, symbol1, symbol2, window_number, window1=window1, window2=window2):\n",
    "    trades = []\n",
    "    trade_id = 0\n",
    "    active_trades = []\n",
    "    \n",
    "    S1_full = pd.concat([S1_train, S1_test])\n",
    "    S2_full = pd.concat([S2_train, S2_test])\n",
    "    \n",
    "    ratios_full = S1_full / S2_full\n",
    "    test_start = S1_test.index[0]\n",
    "    \n",
    "    for i in range(len(S1_test)):\n",
    "        current_idx = S1_train.shape[0] + i\n",
    "        ratio_history = ratios_full.iloc[:current_idx+1]\n",
    "        \n",
    "        if len(ratio_history) < window2:\n",
    "            continue\n",
    "            \n",
    "        ratio_history_past = ratios_full.iloc[:current_idx] \n",
    "        ma2 = ratio_history_past.rolling(window=window2, center=False).mean().iloc[-1] \n",
    "        std = ratio_history_past.rolling(window=window2, center=False).std().iloc[-1]   \n",
    "        \n",
    "        if std == 0:\n",
    "            continue\n",
    "            \n",
    "        current_ratio = ratios_full.iloc[current_idx]\n",
    "        current_date = S1_test.index[i]\n",
    "        zscore = (current_ratio - ma2) / std\n",
    "        \n",
    "        if zscore > entry_threshold:\n",
    "            trade_entry = {\n",
    "                'trade_id': trade_id,\n",
    "                'symbol1': symbol1,\n",
    "                'symbol2': symbol2,\n",
    "                'entry_date': current_date,\n",
    "                'entry_zscore': zscore,\n",
    "                'window': window_number,\n",
    "                'status': 'active',\n",
    "                'type': 'short',\n",
    "                'entry_prices': {\n",
    "                    symbol1: {'price': S1_test.iloc[i], 'type': 'short'},\n",
    "                    symbol2: {'price': S2_test.iloc[i], 'type': 'long'}\n",
    "                }\n",
    "            }\n",
    "            active_trades.append(trade_entry)\n",
    "            trade_id += 1\n",
    "            \n",
    "        elif zscore < -entry_threshold:\n",
    "            trade_entry = {\n",
    "                'trade_id': trade_id,\n",
    "                'symbol1': symbol1,\n",
    "                'symbol2': symbol2,\n",
    "                'entry_date': current_date,\n",
    "                'entry_zscore': zscore,\n",
    "                'window': window_number,\n",
    "                'status': 'active',\n",
    "                'type': 'long',\n",
    "                'entry_prices': {\n",
    "                    symbol1: {'price': S1_test.iloc[i], 'type': 'long'},\n",
    "                    symbol2: {'price': S2_test.iloc[i], 'type': 'short'}\n",
    "                }\n",
    "            }\n",
    "            active_trades.append(trade_entry)\n",
    "            trade_id += 1\n",
    "        \n",
    "        for trade in active_trades:\n",
    "            if trade['status'] == 'active':\n",
    "                if (trade['type'] == 'short' and zscore < exit_threshold) or \\\n",
    "                   (trade['type'] == 'long' and zscore > -exit_threshold):\n",
    "                    \n",
    "                    trade['status'] = 'closed'\n",
    "                    trade['exit_date'] = current_date\n",
    "                    trade['exit_zscore'] = zscore\n",
    "                    \n",
    "                    for symbol in [symbol1, symbol2]:\n",
    "                        trades.append({\n",
    "                            'trade_id': trade['trade_id'],\n",
    "                            'symbol': symbol,\n",
    "                            'entry_date': trade['entry_date'],\n",
    "                            'entry_price': trade['entry_prices'][symbol]['price'],\n",
    "                            'exit_date': current_date,\n",
    "                            'exit_price': S1_test.iloc[i] if symbol == symbol1 else S2_test.iloc[i],\n",
    "                            'position_type': trade['entry_prices'][symbol]['type'],\n",
    "                            'paired_symbol': symbol2 if symbol == symbol1 else symbol1,\n",
    "                            'exit_type': 'target',\n",
    "                            'window': trade['window']\n",
    "                        })\n",
    "    \n",
    "    return trades, active_trades"
   ]
  },
  {
   "cell_type": "code",
   "execution_count": null,
   "metadata": {
    "ExecuteTime": {
     "end_time": "2025-03-06T10:10:40.991344Z",
     "start_time": "2025-03-06T10:10:40.989267Z"
    }
   },
   "outputs": [],
   "source": [
    "def zscore(series):    \n",
    "    return (series - series.mean()) / np.std(series)\n",
    "\n",
    "def calculate_spread(data, symbol1, symbol2, start_date=None, end_date=None):\n",
    "    if start_date:\n",
    "        mask = (data.index >= start_date) & (data.index <= end_date)\n",
    "        data = data[mask]\n",
    "    \n",
    "    # Calculate ratio and z-score\n",
    "    ratios = data[symbol1] / data[symbol2]\n",
    "    zscore_ratios = zscore(ratios)\n",
    "    \n",
    "    return ratios, zscore_ratios"
   ]
  },
  {
   "cell_type": "code",
   "execution_count": null,
   "metadata": {
    "ExecuteTime": {
     "end_time": "2025-03-06T10:10:41.017030Z",
     "start_time": "2025-03-06T10:10:41.007260Z"
    }
   },
   "outputs": [],
   "source": [
    "def backtest_pairs_sliding(price_matrix, initial_start_date, initial_end_date, base_output_path, output_filename, window_shifts=window_shifts, p_threshold=p_threshold, shift_size=shift_size):\n",
    "    all_trades = []\n",
    "    ongoing_trades = []\n",
    "    \n",
    "    print(f\"Price Matrix Zeitraum: {price_matrix.index.min()} bis {price_matrix.index.max()}\")\n",
    "    \n",
    "    for window_number in range(window_shifts):\n",
    "        current_start = initial_start_date + pd.DateOffset(months=window_number*shift_size)\n",
    "        current_end = initial_end_date + pd.DateOffset(months=window_number*shift_size)\n",
    "        \n",
    "        print(f\"\\nAnalyse {window_number+1}/{window_shifts}\")\n",
    "        print(f\"Cluster-Fenster: {current_start} bis {current_end}\")\n",
    "        \n",
    "        cluster_data = price_matrix[(price_matrix.index >= current_start) & \n",
    "                                  (price_matrix.index <= current_end)].copy()\n",
    "        \n",
    "        if len(cluster_data) == 0:\n",
    "            print(f\"Keine Daten für Fenster {window_number+1}\")\n",
    "            continue\n",
    "            \n",
    "        print(f\"Cluster Daten: {len(cluster_data)} Tage\")\n",
    "            \n",
    "        metrics = calculate_metrics(cluster_data)\n",
    "        X = scale_metrics(metrics)\n",
    "        \n",
    "        if preference is None:\n",
    "            ap = AffinityPropagation()\n",
    "        else:\n",
    "            ap = AffinityPropagation(preference=preference)\n",
    "        ap.fit(X)\n",
    "        \n",
    "        potential_pairs = []\n",
    "        \n",
    "        for cluster_id in np.unique(ap.labels_):\n",
    "            cluster_mask = ap.labels_ == cluster_id\n",
    "            cluster_symbols = X.index[cluster_mask]\n",
    "            center = X.iloc[ap.cluster_centers_indices_[cluster_id]]\n",
    "            \n",
    "            for i in range(len(cluster_symbols)):\n",
    "                for j in range(i+1, len(cluster_symbols)):\n",
    "                    symbol1, symbol2 = cluster_symbols[i], cluster_symbols[j]\n",
    "                    \n",
    "                    dist1 = np.linalg.norm(X.loc[symbol1] - center)\n",
    "                    dist2 = np.linalg.norm(X.loc[symbol2] - center)\n",
    "                    center_dist = (dist1 + dist2) / 2\n",
    "                    profile_diff = np.linalg.norm(X.loc[symbol1] - X.loc[symbol2])\n",
    "                    \n",
    "                    series1 = cluster_data[symbol1].dropna()\n",
    "                    series2 = cluster_data[symbol2].dropna()\n",
    "                    \n",
    "                    if len(series1) > 0 and len(series2) > 0:\n",
    "                        score, pvalue, _ = coint(series1, series2)\n",
    "                        \n",
    "                        if pvalue < p_threshold:\n",
    "                            potential_pairs.append({\n",
    "                                'pair': (symbol1, symbol2),\n",
    "                                'center_dist': center_dist,\n",
    "                                'profile_diff': profile_diff,\n",
    "                                'pvalue': pvalue,\n",
    "                                'cluster': cluster_id\n",
    "                            })\n",
    "        \n",
    "        if not potential_pairs:\n",
    "            print(f\"Keine cointegrierten Paare gefunden für Fenster {window_number+1}\")\n",
    "            continue\n",
    "            \n",
    "        pairs_df = pd.DataFrame(potential_pairs)\n",
    "        pairs_df['center_dist_norm'] = (pairs_df['center_dist'] - pairs_df['center_dist'].min()) / \\\n",
    "                                     (pairs_df['center_dist'].max() - pairs_df['center_dist'].min())\n",
    "        pairs_df['profile_diff_norm'] = (pairs_df['profile_diff'] - pairs_df['profile_diff'].min()) / \\\n",
    "                                      (pairs_df['profile_diff'].max() - pairs_df['profile_diff'].min())\n",
    "        \n",
    "        pairs_df['combined_score'] = 0.6 * pairs_df['center_dist_norm'] + \\\n",
    "                                   0.4 * pairs_df['profile_diff_norm']\n",
    "        \n",
    "        pairs_df = pairs_df.sort_values('combined_score')\n",
    "        top_pairs = pairs_df['pair'].tolist()[:min_pairs]\n",
    "        \n",
    "        print(f\"Gefundene cointegrierte Paare für Fenster {window_number+1}: {len(top_pairs)}\")\n",
    "        \n",
    "        trade_start = current_end\n",
    "        trade_end = trade_start + pd.DateOffset(months=1)\n",
    "        \n",
    "        print(f\"Trading-Zeitraum: {trade_start} bis {trade_end}\")\n",
    "        \n",
    "        trading_data = price_matrix[(price_matrix.index > trade_start) & \n",
    "                                  (price_matrix.index <= trade_end)].copy()\n",
    "        \n",
    "        print(f\"Trading Daten: {len(trading_data)} Tage\")\n",
    "        \n",
    "        if len(trading_data) == 0:\n",
    "            print(f\"Warnung: Kein Trading-Zeitraum verfügbar nach {trade_start}\")\n",
    "            continue\n",
    "            \n",
    "        updated_ongoing_trades = []\n",
    "        closed_trade_ids = set()\n",
    "        \n",
    "        for open_trade in ongoing_trades:\n",
    "            symbol1, symbol2 = open_trade['symbol1'], open_trade['symbol2']\n",
    "            \n",
    "            if symbol1 in trading_data.columns and symbol2 in trading_data.columns:\n",
    "                still_active = True\n",
    "                \n",
    "                for idx, date in enumerate(trading_data.index):\n",
    "                    train_data = price_matrix[(price_matrix.index <= open_trade['entry_date'])]\n",
    "                    ratio_history = train_data[symbol1] / train_data[symbol2]\n",
    "                    \n",
    "                    if len(ratio_history) >= window2:\n",
    "                        ma = ratio_history.rolling(window=window2, center=False).mean().iloc[-1]\n",
    "                        std = ratio_history.rolling(window=window2, center=False).std().iloc[-1]\n",
    "                    else:\n",
    "                        ma = ratio_history.mean()\n",
    "                        std = ratio_history.std()\n",
    "                    \n",
    "                    if std == 0:\n",
    "                        continue\n",
    "                    \n",
    "                    current_ratio = trading_data[symbol1].iloc[idx] / trading_data[symbol2].iloc[idx]\n",
    "                    current_zscore = (current_ratio - ma) / std\n",
    "                    \n",
    "                    if (open_trade['type'] == 'short' and current_zscore < exit_threshold) or \\\n",
    "                       (open_trade['type'] == 'long' and current_zscore > -exit_threshold):\n",
    "                        \n",
    "                        open_trade['status'] = 'closed'\n",
    "                        open_trade['exit_date'] = date\n",
    "                        closed_trade_ids.add(open_trade['trade_id'])\n",
    "                        \n",
    "                        for symbol in [symbol1, symbol2]:\n",
    "                            all_trades.append({\n",
    "                                'trade_id': open_trade['trade_id'],\n",
    "                                'symbol': symbol,\n",
    "                                'entry_date': open_trade['entry_date'],\n",
    "                                'entry_price': open_trade['entry_prices'][symbol]['price'],\n",
    "                                'exit_date': date,\n",
    "                                'exit_price': trading_data.loc[date, symbol],\n",
    "                                'position_type': open_trade['entry_prices'][symbol]['type'],\n",
    "                                'paired_symbol': symbol2 if symbol == symbol1 else symbol1,\n",
    "                                'exit_type': 'target',\n",
    "                                'window': open_trade['window']\n",
    "                            })\n",
    "                        \n",
    "                        still_active = False\n",
    "                        break\n",
    "                \n",
    "                if still_active:\n",
    "                    updated_ongoing_trades.append(open_trade)\n",
    "        \n",
    "        ongoing_trades = updated_ongoing_trades\n",
    "        \n",
    "        trade_count = 0\n",
    "        for pair in top_pairs:\n",
    "            symbol1, symbol2 = pair\n",
    "            \n",
    "            if symbol1 not in trading_data.columns or symbol2 not in trading_data.columns:\n",
    "                continue\n",
    "                \n",
    "            new_trades, active_new_trades = trade(\n",
    "                cluster_data[symbol1], \n",
    "                cluster_data[symbol2],\n",
    "                trading_data[symbol1], \n",
    "                trading_data[symbol2],\n",
    "                symbol1, symbol2,\n",
    "                window_number=window_number + 1\n",
    "            )\n",
    "            \n",
    "            if new_trades:\n",
    "                trade_count += len(new_trades) // 2 \n",
    "                all_trades.extend(new_trades)\n",
    "            \n",
    "            ongoing_trades.extend(active_new_trades)\n",
    "        \n",
    "        print(f\"Neue geschlossene Trades in diesem Fenster: {trade_count}\")\n",
    "        print(f\"Aktuell offene Trades: {len(ongoing_trades)}\")\n",
    "    \n",
    "    trades_df = pd.DataFrame(all_trades)\n",
    "    \n",
    "    if len(trades_df) > 0:\n",
    "        \n",
    "        full_output_path = f\"{base_output_path}{output_filename}\"\n",
    "        trades_df.to_parquet(full_output_path)\n",
    "        \n",
    "        print(\"\\nTrading Zusammenfassung:\")\n",
    "        print(f\"Gesamtanzahl Trades: {len(trades_df)}\")\n",
    "        print(f\"Unique Paare gehandelt: {len(trades_df[['symbol', 'paired_symbol']].drop_duplicates())}\")\n",
    "        print(f\"Zeitraum: {trades_df['entry_date'].min()} bis {trades_df['exit_date'].max()}\")\n",
    "        \n",
    "        print(\"\\nTrades pro Fenster:\")\n",
    "        print(trades_df['window'].value_counts().sort_index())\n",
    "    else:\n",
    "        print(\"Keine Trades generiert!\")\n",
    "        \n",
    "    return trades_df"
   ]
  },
  {
   "cell_type": "code",
   "execution_count": null,
   "metadata": {
    "ExecuteTime": {
     "end_time": "2025-03-06T10:14:30.845854Z",
     "start_time": "2025-03-06T10:10:41.033331Z"
    }
   },
   "outputs": [],
   "source": [
    "trades_df = backtest_pairs_sliding(\n",
    "    price_matrix=price_matrix,\n",
    "    initial_start_date=DATE_CONFIG['TRAIN_START'],\n",
    "    initial_end_date=DATE_CONFIG['TRAIN_END'], \n",
    "    base_output_path=base_output_path,\n",
    "    output_filename=output_filename,\n",
    "    window_shifts=window_shifts\n",
    ")"
   ]
  },
  {
   "cell_type": "markdown",
   "metadata": {},
   "source": [
    "### Debug 🛠️"
   ]
  },
  {
   "cell_type": "code",
   "execution_count": null,
   "metadata": {
    "ExecuteTime": {
     "end_time": "2025-03-06T10:14:30.865482Z",
     "start_time": "2025-03-06T10:14:30.863388Z"
    }
   },
   "outputs": [],
   "source": [
    "print(\"Gefundene Top Pairs:\")\n",
    "for pair in top_pairs:\n",
    "    print(f\"{pair[0]} - {pair[1]}\")\n",
    "print(f\"\\nAnzahl der Top Pairs: {len(top_pairs)}\")"
   ]
  }
 ],
 "metadata": {
  "kernelspec": {
   "display_name": "Python 3",
   "language": "python",
   "name": "python3"
  },
  "language_info": {
   "codemirror_mode": {
    "name": "ipython",
    "version": 3
   },
   "file_extension": ".py",
   "mimetype": "text/x-python",
   "name": "python",
   "nbconvert_exporter": "python",
   "pygments_lexer": "ipython3",
   "version": "3.9.6"
  }
 },
 "nbformat": 4,
 "nbformat_minor": 2
}

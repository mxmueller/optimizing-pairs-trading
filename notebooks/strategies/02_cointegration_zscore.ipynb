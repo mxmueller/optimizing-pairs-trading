{
 "cells": [
  {
   "cell_type": "code",
   "metadata": {
    "execution": {
     "iopub.execute_input": "2025-01-27T12:00:47.574233Z",
     "iopub.status.busy": "2025-01-27T12:00:47.574072Z",
     "iopub.status.idle": "2025-01-27T12:00:48.623539Z",
     "shell.execute_reply": "2025-01-27T12:00:48.623304Z"
    }
   },
   "source": [
    "import sys\n",
    "sys.path.append(\"../../\")\n",
    "\n",
    "from src.analysis.cointegration import find_cointegrated_pairs, analyze_pairs, plot_cointegration_heatmap\n",
    "from datetime import datetime, timedelta\n",
    "import pandas as pd\n",
    "import numpy as np\n",
    "import matplotlib.pyplot as plt\n",
    "import warnings\n",
    "warnings.filterwarnings('ignore')\n",
    "\n",
    "\n",
    "DATE_CONFIG = {\n",
    "    'TRAIN_START': pd.Timestamp('2021-02-02'),\n",
    "    'TRAIN_END': pd.Timestamp('2024-01-01'),\n",
    "    'TEST_END': pd.Timestamp('2025-01-01'),\n",
    "    'TRADING_DAYS_PER_YEAR': 252  \n",
    "}\n",
    "\n",
    "def get_training_period():\n",
    "    return {\n",
    "        'start': DATE_CONFIG['TRAIN_START'],\n",
    "        'end': DATE_CONFIG['TRAIN_END']\n",
    "    }\n",
    "\n",
    "def get_test_period():\n",
    "    return {\n",
    "        'start': DATE_CONFIG['TRAIN_END'],\n",
    "        'end': DATE_CONFIG['TEST_END']\n",
    "    }\n",
    "\n",
    "def get_training_days():\n",
    "    years = (DATE_CONFIG['TRAIN_END'] - DATE_CONFIG['TRAIN_START']).days / 365\n",
    "    return int(years * DATE_CONFIG['TRADING_DAYS_PER_YEAR'])\n",
    "\n",
    "plt.style.use('classic')\n",
    "plt.rcParams['figure.figsize'] = [12, 6]\n",
    "plt.rcParams['figure.dpi'] = 100"
   ],
   "outputs": [],
   "execution_count": null
  },
  {
   "cell_type": "code",
   "metadata": {
    "execution": {
     "iopub.execute_input": "2025-01-27T12:00:48.625035Z",
     "iopub.status.busy": "2025-01-27T12:00:48.624915Z",
     "iopub.status.idle": "2025-01-27T12:00:48.627041Z",
     "shell.execute_reply": "2025-01-27T12:00:48.626844Z"
    }
   },
   "source": [
    "def load_and_prepare_data(file_path):\n",
    "\n",
    "    df = pd.read_parquet(file_path)\n",
    "    df['date'] = pd.to_datetime(df['date'])\n",
    "    \n",
    "    mask = (df['date'] >= DATE_CONFIG['TRAIN_START']) & \\\n",
    "           (df['date'] <= DATE_CONFIG['TEST_END'])\n",
    "    df = df[mask]\n",
    "    \n",
    "    price_matrix = df.pivot(index='date', columns='symbol', values='close')\n",
    "    \n",
    "    symbols = price_matrix.columns.tolist()\n",
    "    \n",
    "    print(f\"Loaded data from {DATE_CONFIG['TRAIN_START']} to {DATE_CONFIG['TEST_END']}\")\n",
    "    print(f\"Total symbols: {len(symbols)}\")\n",
    "    print(f\"Total trading days: {len(price_matrix)}\")\n",
    "    \n",
    "    return price_matrix, symbols"
   ],
   "outputs": [],
   "execution_count": null
  },
  {
   "cell_type": "code",
   "metadata": {
    "execution": {
     "iopub.execute_input": "2025-01-27T12:00:48.628057Z",
     "iopub.status.busy": "2025-01-27T12:00:48.627979Z",
     "iopub.status.idle": "2025-01-27T12:00:48.689219Z",
     "shell.execute_reply": "2025-01-27T12:00:48.688934Z"
    }
   },
   "source": [
    "import toml\n",
    "\n",
    "with open(\"../config.toml\", \"r\") as f:\n",
    "    config = toml.load(f)\n",
    "    \n",
    "price_matrix, symbols = load_and_prepare_data(config['data']['raw_data_path'])"
   ],
   "outputs": [],
   "execution_count": null
  },
  {
   "cell_type": "code",
   "metadata": {
    "execution": {
     "iopub.execute_input": "2025-01-27T12:00:48.708200Z",
     "iopub.status.busy": "2025-01-27T12:00:48.708068Z",
     "iopub.status.idle": "2025-01-27T12:01:39.832971Z",
     "shell.execute_reply": "2025-01-27T12:01:39.832675Z"
    }
   },
   "source": [
    "score_matrix, pvalue_matrix, pairs, summary_df = analyze_pairs(\n",
    "    price_matrix,\n",
    "    pvalue_threshold=0.05\n",
    ")\n",
    "\n",
    "plt.figure(figsize=(10, 5))\n",
    "plt.hist(summary_df['p_value'], bins=50)\n",
    "plt.title('Distribution of Cointegration p-values')\n",
    "plt.xlabel('p-value')\n",
    "plt.ylabel('Frequency')\n",
    "plt.show()\n",
    "\n",
    "plot_cointegration_heatmap(pvalue_matrix, symbols)"
   ],
   "outputs": [],
   "execution_count": null
  },
  {
   "cell_type": "code",
   "metadata": {
    "execution": {
     "iopub.execute_input": "2025-01-27T12:01:39.834355Z",
     "iopub.status.busy": "2025-01-27T12:01:39.834268Z",
     "iopub.status.idle": "2025-01-27T12:01:39.838873Z",
     "shell.execute_reply": "2025-01-27T12:01:39.838641Z"
    },
    "ExecuteTime": {
     "end_time": "2025-02-14T14:01:31.677856Z",
     "start_time": "2025-02-14T14:01:31.669957Z"
    }
   },
   "source": [
    "def zscore(series):\n",
    "    return (series - series.mean()) / np.std(series)\n",
    "\n",
    "def calculate_spread(data, symbol1, symbol2, start_date=None, end_date=None):\n",
    "    if start_date:\n",
    "        mask = (data.index >= start_date) & (data.index <= end_date)\n",
    "        data = data[mask]\n",
    "    \n",
    "    # Calculate ratio and z-score\n",
    "    ratios = data[symbol1] / data[symbol2]\n",
    "    zscore_ratios = zscore(ratios)\n",
    "    \n",
    "    return ratios, zscore_ratios\n",
    "\n",
    "def trade(S1_train, S2_train, S1_test, S2_test, symbol1, symbol2, window1=5, window2=60):\n",
    "    ratios_train = S1_train / S2_train\n",
    "    ratios_test = S1_test / S2_test\n",
    "\n",
    "    all_ratios = pd.concat([ratios_train, ratios_test])\n",
    "    \n",
    "    trades = []\n",
    "    trade_id = 0\n",
    "    position = 0\n",
    "    entry_prices = None\n",
    "    entry_date = None\n",
    "    \n",
    "    for i in range(len(ratios_test)):\n",
    "        current_ratio = ratios_test.iloc[i]\n",
    "        current_date = ratios_test.index[i]\n",
    "    \n",
    "        idx = ratios_train.shape[0] + i\n",
    "\n",
    "        ma2 = all_ratios.iloc[:idx+1].rolling(window=window2, center=False).mean().iloc[-1]\n",
    "        std = all_ratios.iloc[:idx+1].rolling(window=window2, center=False).std().iloc[-1]\n",
    "        zscore = (current_ratio - ma2) / std\n",
    "        \n",
    "        if position == 0:\n",
    "            if zscore > 1.0:\n",
    "                entry_date = current_date\n",
    "                entry_prices = {\n",
    "                    symbol1: {\"price\": S1_test.iloc[i], \"type\": \"short\"},\n",
    "                    symbol2: {\"price\": S2_test.iloc[i], \"type\": \"long\"}\n",
    "                }\n",
    "                position = -1\n",
    "                \n",
    "            elif zscore < -1.0:\n",
    "                entry_date = current_date\n",
    "                entry_prices = {\n",
    "                    symbol1: {\"price\": S1_test.iloc[i], \"type\": \"long\"},\n",
    "                    symbol2: {\"price\": S2_test.iloc[i], \"type\": \"short\"}\n",
    "                }\n",
    "                position = 1\n",
    "                \n",
    "        elif abs(zscore) < 0.5 and position != 0:\n",
    "            for symbol in [symbol1, symbol2]:\n",
    "                trades.append({\n",
    "                    'trade_id': trade_id,\n",
    "                    'symbol': symbol,\n",
    "                    'entry_date': entry_date,\n",
    "                    'entry_price': entry_prices[symbol][\"price\"],\n",
    "                    'exit_date': current_date,\n",
    "                    'exit_price': S1_test.iloc[i] if symbol == symbol1 else S2_test.iloc[i],\n",
    "                    'position_type': entry_prices[symbol][\"type\"],\n",
    "                    'paired_symbol': symbol2 if symbol == symbol1 else symbol1,\n",
    "                    'exit_type': 'target'\n",
    "                })\n",
    "            position = 0\n",
    "            trade_id += 1\n",
    "            \n",
    "    return trades\n",
    "\n",
    "def backtest_pairs(price_matrix, pairs, train_end_date):\n",
    "    all_trades = []\n",
    "    \n",
    "    for symbol1, symbol2 in pairs:\n",
    "        training_mask = price_matrix.index < train_end_date\n",
    "        \n",
    "        S1_train = price_matrix[symbol1][training_mask]\n",
    "        S2_train = price_matrix[symbol2][training_mask]\n",
    "        S1_test = price_matrix[symbol1][~training_mask]\n",
    "        S2_test = price_matrix[symbol2][~training_mask]\n",
    "        \n",
    "        pair_trades = trade(S1_train, S2_train, S1_test, S2_test, symbol1, symbol2)\n",
    "        all_trades.extend(pair_trades)\n",
    "    \n",
    "    trades_df = pd.DataFrame(all_trades)\n",
    "    trades_df.to_parquet('../../data/results/CoInt_Z-Score.parquet')\n",
    "    \n",
    "    return trades_df"
   ],
   "outputs": [],
   "execution_count": 10
  },
  {
   "cell_type": "code",
   "metadata": {
    "execution": {
     "iopub.execute_input": "2025-01-27T12:01:39.839956Z",
     "iopub.status.busy": "2025-01-27T12:01:39.839884Z",
     "iopub.status.idle": "2025-01-27T12:01:39.858270Z",
     "shell.execute_reply": "2025-01-27T12:01:39.858041Z"
    },
    "ExecuteTime": {
     "end_time": "2025-02-14T14:01:34.366411Z",
     "start_time": "2025-02-14T14:01:34.257473Z"
    }
   },
   "source": [
    "combined_scores = []\n",
    "symbols = price_matrix.columns.tolist()  \n",
    "\n",
    "for pair in pairs:\n",
    "    idx1 = symbols.index(pair[0])\n",
    "    idx2 = symbols.index(pair[1])\n",
    "    \n",
    "    sum_idx = summary_df[(summary_df['symbol1'] == pair[0]) & (summary_df['symbol2'] == pair[1])].index[0]\n",
    "    \n",
    "    score_value = score_matrix[idx1, idx2]\n",
    "    p_value = summary_df.loc[sum_idx, 'p_value']\n",
    "    \n",
    "    combined_scores.append({\n",
    "        'pair': pair,\n",
    "        'score': -score_value * (1 - p_value)\n",
    "    })\n",
    "\n",
    "sorted_pairs = sorted(combined_scores, key=lambda x: x['score'], reverse=True)\n",
    "top_20_pairs = [x['pair'] for x in sorted_pairs[:20]]\n"
   ],
   "outputs": [],
   "execution_count": 11
  },
  {
   "cell_type": "code",
   "metadata": {
    "execution": {
     "iopub.execute_input": "2025-01-27T12:01:39.859366Z",
     "iopub.status.busy": "2025-01-27T12:01:39.859294Z",
     "iopub.status.idle": "2025-01-27T12:01:40.241454Z",
     "shell.execute_reply": "2025-01-27T12:01:40.241202Z"
    },
    "ExecuteTime": {
     "end_time": "2025-02-14T14:02:10.491902Z",
     "start_time": "2025-02-14T14:02:09.955024Z"
    }
   },
   "source": [
    "trades_df = backtest_pairs(price_matrix, top_20_pairs, DATE_CONFIG['TRAIN_END'])"
   ],
   "outputs": [],
   "execution_count": 13
  },
  {
   "cell_type": "code",
   "metadata": {
    "execution": {
     "iopub.execute_input": "2025-01-27T12:01:40.242829Z",
     "iopub.status.busy": "2025-01-27T12:01:40.242743Z",
     "iopub.status.idle": "2025-01-27T12:01:40.244624Z",
     "shell.execute_reply": "2025-01-27T12:01:40.244391Z"
    }
   },
   "source": [
    "print(\"Gefundene Pairs:\")\n",
    "for pair in top_20_pairs:\n",
    "    print(f\"{pair[0]} - {pair[1]}\")\n",
    "print(f\"\\nGesamtanzahl der Pairs: {len(pairs)}\")"
   ],
   "outputs": [],
   "execution_count": null
  }
 ],
 "metadata": {
  "kernelspec": {
   "display_name": "base",
   "language": "python",
   "name": "python3"
  },
  "language_info": {
   "codemirror_mode": {
    "name": "ipython",
    "version": 3
   },
   "file_extension": ".py",
   "mimetype": "text/x-python",
   "name": "python",
   "nbconvert_exporter": "python",
   "pygments_lexer": "ipython3",
   "version": "3.12.2"
  }
 },
 "nbformat": 4,
 "nbformat_minor": 2
}

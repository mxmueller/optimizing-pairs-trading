{
 "cells": [
  {
   "metadata": {
    "ExecuteTime": {
     "end_time": "2025-02-15T10:43:24.302152Z",
     "start_time": "2025-02-15T10:43:24.259779Z"
    }
   },
   "cell_type": "code",
   "source": [
    "import sys\n",
    "sys.path.append(\"../../\")\n",
    "from statsmodels.tsa.stattools import adfuller\n",
    "from src.analysis.cointegration import find_cointegrated_pairs, analyze_pairs, plot_cointegration_heatmap\n",
    "from datetime import datetime, timedelta\n",
    "import pandas as pd\n",
    "import numpy as np\n",
    "import matplotlib.pyplot as plt\n",
    "import warnings\n",
    "warnings.filterwarnings('ignore')\n",
    "\n",
    "DATE_CONFIG = {\n",
    "    'TRAIN_START': pd.Timestamp('2021-02-02'),\n",
    "    'TRAIN_END': pd.Timestamp('2024-01-01'),\n",
    "    'TEST_END': pd.Timestamp('2025-01-01'),\n",
    "    'TRADING_DAYS_PER_YEAR': 252  \n",
    "}\n",
    "\n",
    "plt.style.use('classic')\n",
    "plt.rcParams['figure.figsize'] = [12, 6]\n",
    "plt.rcParams['figure.dpi'] = 100"
   ],
   "outputs": [],
   "execution_count": 1
  },
  {
   "metadata": {
    "ExecuteTime": {
     "end_time": "2025-02-15T10:43:24.371497Z",
     "start_time": "2025-02-15T10:43:24.306964Z"
    }
   },
   "cell_type": "code",
   "source": [
    "def load_and_prepare_data(file_path):\n",
    "    df = pd.read_parquet(file_path)\n",
    "    df['date'] = pd.to_datetime(df['date'])\n",
    "    mask = (df['date'] >= DATE_CONFIG['TRAIN_START']) & (df['date'] <= DATE_CONFIG['TEST_END'])\n",
    "    df = df[mask]\n",
    "    price_matrix = df.pivot(index='date', columns='symbol', values='close')\n",
    "    symbols = price_matrix.columns.tolist()\n",
    "    print(f\"Loaded data from {DATE_CONFIG['TRAIN_START']} to {DATE_CONFIG['TEST_END']}\")\n",
    "    print(f\"Total symbols: {len(symbols)}\")\n",
    "    print(f\"Total trading days: {len(price_matrix)}\")\n",
    "    return price_matrix, symbols\n",
    "\n",
    "import toml\n",
    "with open(\"../config.toml\", \"r\") as f:\n",
    "    config = toml.load(f)\n",
    "    \n",
    "price_matrix, symbols = load_and_prepare_data(config['data']['raw_data_path'])\n"
   ],
   "outputs": [
    {
     "name": "stdout",
     "output_type": "stream",
     "text": [
      "Loaded data from 2021-02-02 00:00:00 to 2025-01-01 00:00:00\n",
      "Total symbols: 94\n",
      "Total trading days: 985\n"
     ]
    }
   ],
   "execution_count": 2
  },
  {
   "metadata": {
    "ExecuteTime": {
     "end_time": "2025-02-15T10:43:24.474565Z",
     "start_time": "2025-02-15T10:43:24.471507Z"
    }
   },
   "cell_type": "code",
   "source": [
    "def zscore(series):\n",
    "    return (series - series.mean()) / np.std(series)\n",
    "\n",
    "def get_top_pairs(price_matrix, train_start, train_end, symbols):\n",
    "    train_length = (train_end - train_start).days\n",
    "    pair_selection_end = train_start + pd.Timedelta(days=int(train_length * 0.7))\n",
    "    \n",
    "    selection_mask = (price_matrix.index >= train_start) & (price_matrix.index <= pair_selection_end)\n",
    "    selection_data = price_matrix[selection_mask]\n",
    "    \n",
    "    score_matrix, pvalue_matrix, pairs, summary_df = analyze_pairs(selection_data, pvalue_threshold=0.05)\n",
    "            \n",
    "    return pairs[:20] "
   ],
   "outputs": [],
   "execution_count": 3
  },
  {
   "metadata": {
    "ExecuteTime": {
     "end_time": "2025-02-15T10:43:24.485378Z",
     "start_time": "2025-02-15T10:43:24.481758Z"
    }
   },
   "cell_type": "code",
   "source": [
    "def trade(S1_train, S2_train, S1_test, S2_test, symbol1, symbol2, window1=5, window2=60):\n",
    "    trades = []\n",
    "    trade_id = 0\n",
    "    position = 0\n",
    "    entry_prices = None\n",
    "    entry_date = None\n",
    "    \n",
    "    # Berechne mean und std nur aus Training Daten\n",
    "    train_ratio = S1_train / S2_train\n",
    "    train_mean = train_ratio.rolling(window=window2).mean().iloc[-1] \n",
    "    train_std = train_ratio.rolling(window=window2).std().iloc[-1]\n",
    "    \n",
    "    # Teste nur auf Test-Daten\n",
    "    test_ratio = S1_test / S2_test\n",
    "    \n",
    "    for i in range(len(test_ratio)):\n",
    "        current_ratio = test_ratio.iloc[i]\n",
    "        current_date = test_ratio.index[i]\n",
    "        \n",
    "        # Z-Score nur mit historischem mean/std\n",
    "        zscore = (current_ratio - train_mean) / train_std\n",
    "        \n",
    "        if position == 0:\n",
    "            if zscore > 1.0:\n",
    "                entry_date = current_date\n",
    "                entry_prices = {\n",
    "                    symbol1: {\"price\": S1_test.iloc[i], \"type\": \"short\"},\n",
    "                    symbol2: {\"price\": S2_test.iloc[i], \"type\": \"long\"}\n",
    "                }\n",
    "                position = -1\n",
    "            elif zscore < -1.0:\n",
    "                entry_date = current_date  \n",
    "                entry_prices = {\n",
    "                    symbol1: {\"price\": S1_test.iloc[i], \"type\": \"long\"},\n",
    "                    symbol2: {\"price\": S2_test.iloc[i], \"type\": \"short\"}\n",
    "                }\n",
    "                position = 1\n",
    "        elif abs(zscore) < 0.5 and position != 0:\n",
    "            for symbol in [symbol1, symbol2]:\n",
    "                trades.append({\n",
    "                    'trade_id': trade_id,\n",
    "                    'symbol': symbol,\n",
    "                    'entry_date': entry_date,\n",
    "                    'entry_price': entry_prices[symbol][\"price\"],\n",
    "                    'exit_date': current_date,\n",
    "                    'exit_price': S1_test.iloc[i] if symbol == symbol1 else S2_test.iloc[i],\n",
    "                    'position_type': entry_prices[symbol][\"type\"],\n",
    "                    'paired_symbol': symbol2 if symbol == symbol1 else symbol1,\n",
    "                    'exit_type': 'target'\n",
    "                })\n",
    "            position = 0\n",
    "            trade_id += 1\n",
    "            \n",
    "    return trades"
   ],
   "outputs": [],
   "execution_count": 4
  },
  {
   "metadata": {
    "ExecuteTime": {
     "end_time": "2025-02-15T10:43:24.494160Z",
     "start_time": "2025-02-15T10:43:24.491558Z"
    }
   },
   "cell_type": "code",
   "source": [
    "def backtest_pairs_rolling(price_matrix, symbols):\n",
    "    all_trades = []\n",
    "    test_start = DATE_CONFIG['TRAIN_END']\n",
    "    months = pd.date_range(test_start, DATE_CONFIG['TEST_END'], freq='M')\n",
    "    window_size = pd.DateOffset(months=1)\n",
    "    \n",
    "    for i, month_end in enumerate(months):\n",
    "        month_start = test_start + i * window_size\n",
    "        train_start = DATE_CONFIG['TRAIN_START'] + i * window_size\n",
    "        train_end = test_start + i * window_size\n",
    "        \n",
    "        top_pairs = get_top_pairs(price_matrix, train_start, train_end, symbols)\n",
    "        \n",
    "        for symbol1, symbol2 in top_pairs:\n",
    "            training_mask = (price_matrix.index >= train_start) & (price_matrix.index < train_end)\n",
    "            test_mask = (price_matrix.index >= month_start) & (price_matrix.index < month_end)\n",
    "            \n",
    "            S1_train = price_matrix[symbol1][training_mask]\n",
    "            S2_train = price_matrix[symbol2][training_mask]\n",
    "            S1_test = price_matrix[symbol1][test_mask]\n",
    "            S2_test = price_matrix[symbol2][test_mask]\n",
    "            \n",
    "            if not S1_test.empty and not S2_test.empty:\n",
    "                pair_trades = trade(S1_train, S2_train, S1_test, S2_test, symbol1, symbol2)\n",
    "                all_trades.extend(pair_trades)\n",
    "    \n",
    "    trades_df = pd.DataFrame(all_trades)\n",
    "    trades_df.to_parquet('../../data/results/CoInt_Z-Score.parquet')\n",
    "    return trades_df"
   ],
   "outputs": [],
   "execution_count": 5
  },
  {
   "metadata": {
    "ExecuteTime": {
     "end_time": "2025-02-15T10:47:59.640938Z",
     "start_time": "2025-02-15T10:43:24.500173Z"
    }
   },
   "cell_type": "code",
   "source": "trades_df = backtest_pairs_rolling(price_matrix, symbols)",
   "outputs": [
    {
     "name": "stderr",
     "output_type": "stream",
     "text": [
      "Analyzing pairs: 100%|██████████| 4371/4371 [00:23<00:00, 187.69it/s]\n"
     ]
    },
    {
     "name": "stdout",
     "output_type": "stream",
     "text": [
      "\n",
      "Analysis complete!\n",
      "Found 276 cointegrated pairs\n",
      "Total pairs analyzed: 4371\n"
     ]
    },
    {
     "name": "stderr",
     "output_type": "stream",
     "text": [
      "Analyzing pairs: 100%|██████████| 4371/4371 [00:22<00:00, 190.44it/s]\n"
     ]
    },
    {
     "name": "stdout",
     "output_type": "stream",
     "text": [
      "\n",
      "Analysis complete!\n",
      "Found 307 cointegrated pairs\n",
      "Total pairs analyzed: 4371\n"
     ]
    },
    {
     "name": "stderr",
     "output_type": "stream",
     "text": [
      "Analyzing pairs: 100%|██████████| 4371/4371 [00:22<00:00, 191.13it/s]\n"
     ]
    },
    {
     "name": "stdout",
     "output_type": "stream",
     "text": [
      "\n",
      "Analysis complete!\n",
      "Found 265 cointegrated pairs\n",
      "Total pairs analyzed: 4371\n"
     ]
    },
    {
     "name": "stderr",
     "output_type": "stream",
     "text": [
      "Analyzing pairs: 100%|██████████| 4371/4371 [00:22<00:00, 190.23it/s]\n"
     ]
    },
    {
     "name": "stdout",
     "output_type": "stream",
     "text": [
      "\n",
      "Analysis complete!\n",
      "Found 193 cointegrated pairs\n",
      "Total pairs analyzed: 4371\n"
     ]
    },
    {
     "name": "stderr",
     "output_type": "stream",
     "text": [
      "Analyzing pairs: 100%|██████████| 4371/4371 [00:22<00:00, 190.92it/s]\n"
     ]
    },
    {
     "name": "stdout",
     "output_type": "stream",
     "text": [
      "\n",
      "Analysis complete!\n",
      "Found 283 cointegrated pairs\n",
      "Total pairs analyzed: 4371\n"
     ]
    },
    {
     "name": "stderr",
     "output_type": "stream",
     "text": [
      "Analyzing pairs: 100%|██████████| 4371/4371 [00:22<00:00, 191.60it/s]\n"
     ]
    },
    {
     "name": "stdout",
     "output_type": "stream",
     "text": [
      "\n",
      "Analysis complete!\n",
      "Found 228 cointegrated pairs\n",
      "Total pairs analyzed: 4371\n"
     ]
    },
    {
     "name": "stderr",
     "output_type": "stream",
     "text": [
      "Analyzing pairs: 100%|██████████| 4371/4371 [00:22<00:00, 191.05it/s]\n"
     ]
    },
    {
     "name": "stdout",
     "output_type": "stream",
     "text": [
      "\n",
      "Analysis complete!\n",
      "Found 259 cointegrated pairs\n",
      "Total pairs analyzed: 4371\n"
     ]
    },
    {
     "name": "stderr",
     "output_type": "stream",
     "text": [
      "Analyzing pairs: 100%|██████████| 4371/4371 [00:22<00:00, 191.56it/s]\n"
     ]
    },
    {
     "name": "stdout",
     "output_type": "stream",
     "text": [
      "\n",
      "Analysis complete!\n",
      "Found 332 cointegrated pairs\n",
      "Total pairs analyzed: 4371\n"
     ]
    },
    {
     "name": "stderr",
     "output_type": "stream",
     "text": [
      "Analyzing pairs: 100%|██████████| 4371/4371 [00:22<00:00, 190.99it/s]\n"
     ]
    },
    {
     "name": "stdout",
     "output_type": "stream",
     "text": [
      "\n",
      "Analysis complete!\n",
      "Found 298 cointegrated pairs\n",
      "Total pairs analyzed: 4371\n"
     ]
    },
    {
     "name": "stderr",
     "output_type": "stream",
     "text": [
      "Analyzing pairs: 100%|██████████| 4371/4371 [00:22<00:00, 190.09it/s]\n"
     ]
    },
    {
     "name": "stdout",
     "output_type": "stream",
     "text": [
      "\n",
      "Analysis complete!\n",
      "Found 371 cointegrated pairs\n",
      "Total pairs analyzed: 4371\n"
     ]
    },
    {
     "name": "stderr",
     "output_type": "stream",
     "text": [
      "Analyzing pairs: 100%|██████████| 4371/4371 [00:22<00:00, 191.33it/s]\n"
     ]
    },
    {
     "name": "stdout",
     "output_type": "stream",
     "text": [
      "\n",
      "Analysis complete!\n",
      "Found 266 cointegrated pairs\n",
      "Total pairs analyzed: 4371\n"
     ]
    },
    {
     "name": "stderr",
     "output_type": "stream",
     "text": [
      "Analyzing pairs: 100%|██████████| 4371/4371 [00:22<00:00, 192.01it/s]\n"
     ]
    },
    {
     "name": "stdout",
     "output_type": "stream",
     "text": [
      "\n",
      "Analysis complete!\n",
      "Found 501 cointegrated pairs\n",
      "Total pairs analyzed: 4371\n"
     ]
    }
   ],
   "execution_count": 6
  }
 ],
 "metadata": {
  "kernelspec": {
   "display_name": "base",
   "language": "python",
   "name": "python3"
  },
  "language_info": {
   "codemirror_mode": {
    "name": "ipython",
    "version": 3
   },
   "file_extension": ".py",
   "mimetype": "text/x-python",
   "name": "python",
   "nbconvert_exporter": "python",
   "pygments_lexer": "ipython3",
   "version": "3.12.2"
  }
 },
 "nbformat": 4,
 "nbformat_minor": 2
}

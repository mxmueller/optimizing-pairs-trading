{
 "cells": [
  {
   "cell_type": "code",
   "metadata": {
    "execution": {
     "iopub.execute_input": "2025-01-27T12:01:44.611056Z",
     "iopub.status.busy": "2025-01-27T12:01:44.610770Z",
     "iopub.status.idle": "2025-01-27T12:01:45.612627Z",
     "shell.execute_reply": "2025-01-27T12:01:45.612342Z"
    }
   },
   "source": [
    "import sys\n",
    "sys.path.append(\"../../\")\n",
    "\n",
    "from src.analysis.cointegration import find_cointegrated_pairs, analyze_pairs, plot_cointegration_heatmap\n",
    "from datetime import datetime, timedelta\n",
    "import pandas as pd\n",
    "import numpy as np\n",
    "from statsmodels.tsa.stattools import coint\n",
    "import seaborn as sns\n",
    "import matplotlib.pyplot as plt\n",
    "from tqdm import tqdm\n",
    "import warnings\n",
    "import statsmodels.api as sm\n",
    "\n",
    "warnings.filterwarnings('ignore')\n",
    "\n",
    "DATE_CONFIG = {\n",
    "   'TRAIN_START': pd.Timestamp('2021-02-02'),\n",
    "   'TRAIN_END': pd.Timestamp('2024-01-01'),  \n",
    "   'TEST_END': pd.Timestamp('2025-01-01'),\n",
    "   'TRADING_DAYS_PER_YEAR': 252  \n",
    "}\n",
    "\n",
    "def get_training_period():\n",
    "    return {\n",
    "        'start': DATE_CONFIG['TRAIN_START'],\n",
    "        'end': DATE_CONFIG['TRAIN_END']\n",
    "    }\n",
    "\n",
    "def get_test_period():\n",
    "    return {\n",
    "        'start': DATE_CONFIG['TRAIN_END'],\n",
    "        'end': DATE_CONFIG['TEST_END']\n",
    "    }\n",
    "\n",
    "def get_training_days():\n",
    "    years = (DATE_CONFIG['TRAIN_END'] - DATE_CONFIG['TRAIN_START']).days / 365\n",
    "    return int(years * DATE_CONFIG['TRADING_DAYS_PER_YEAR'])\n",
    "\n",
    "# Plot settings\n",
    "plt.style.use('classic')\n",
    "plt.rcParams['figure.figsize'] = [12, 6]\n",
    "plt.rcParams['figure.dpi'] = 100"
   ],
   "outputs": [],
   "execution_count": null
  },
  {
   "metadata": {
    "execution": {
     "iopub.execute_input": "2025-01-27T12:01:45.614136Z",
     "iopub.status.busy": "2025-01-27T12:01:45.613995Z",
     "iopub.status.idle": "2025-01-27T12:01:45.616165Z",
     "shell.execute_reply": "2025-01-27T12:01:45.615981Z"
    }
   },
   "cell_type": "code",
   "source": [
    "def load_and_prepare_data(file_path):\n",
    "\n",
    "    df = pd.read_parquet(file_path)\n",
    "    df['date'] = pd.to_datetime(df['date'])\n",
    "    \n",
    "    mask = (df['date'] >= DATE_CONFIG['TRAIN_START']) & \\\n",
    "           (df['date'] <= DATE_CONFIG['TEST_END'])\n",
    "    df = df[mask]\n",
    "    \n",
    "    price_matrix = df.pivot(index='date', columns='symbol', values='close')\n",
    "    \n",
    "    symbols = price_matrix.columns.tolist()\n",
    "    \n",
    "    print(f\"Loaded data from {DATE_CONFIG['TRAIN_START']} to {DATE_CONFIG['TEST_END']}\")\n",
    "    print(f\"Total symbols: {len(symbols)}\")\n",
    "    print(f\"Total trading days: {len(price_matrix)}\")\n",
    "    \n",
    "    return price_matrix, symbols"
   ],
   "outputs": [],
   "execution_count": null
  },
  {
   "cell_type": "code",
   "metadata": {
    "execution": {
     "iopub.execute_input": "2025-01-27T12:01:45.617194Z",
     "iopub.status.busy": "2025-01-27T12:01:45.617124Z",
     "iopub.status.idle": "2025-01-27T12:01:45.703021Z",
     "shell.execute_reply": "2025-01-27T12:01:45.702751Z"
    }
   },
   "source": [
    "import toml\n",
    "\n",
    "with open(\"../config.toml\", \"r\") as f:\n",
    "    config = toml.load(f)\n",
    "    \n",
    "price_matrix, symbols = load_and_prepare_data(config['data']['raw_data_path'])"
   ],
   "outputs": [],
   "execution_count": null
  },
  {
   "cell_type": "code",
   "metadata": {
    "execution": {
     "iopub.execute_input": "2025-01-27T12:01:45.719664Z",
     "iopub.status.busy": "2025-01-27T12:01:45.719555Z",
     "iopub.status.idle": "2025-01-27T12:02:36.102734Z",
     "shell.execute_reply": "2025-01-27T12:02:36.102427Z"
    }
   },
   "source": [
    "score_matrix, pvalue_matrix, pairs, summary_df = analyze_pairs(\n",
    "    price_matrix,\n",
    "    pvalue_threshold=0.05\n",
    ")\n",
    "\n",
    "plt.figure(figsize=(10, 5))\n",
    "plt.hist(summary_df['p_value'], bins=50)\n",
    "plt.title('Distribution of Cointegration p-values')\n",
    "plt.xlabel('p-value')\n",
    "plt.ylabel('Frequency')\n",
    "plt.show()\n",
    "\n",
    "plot_cointegration_heatmap(pvalue_matrix, symbols)"
   ],
   "outputs": [],
   "execution_count": null
  },
  {
   "cell_type": "code",
   "metadata": {},
   "source": [
    "def zscore(series):\n",
    "    return (series - series.mean()) / np.std(series)\n",
    "\n",
    "def calculate_spread(data, symbol1, symbol2, start_date=None, end_date=None):\n",
    "    if start_date:\n",
    "        mask = (data.index >= start_date) & (data.index <= end_date)\n",
    "        data = data[mask]\n",
    "    \n",
    "    ratios = data[symbol1] / data[symbol2]\n",
    "    zscore_ratios = zscore(ratios)\n",
    "    \n",
    "    return ratios, zscore_ratios"
   ],
   "outputs": [],
   "execution_count": null
  },
  {
   "metadata": {},
   "cell_type": "code",
   "source": [
    "def get_top_pairs(price_matrix, train_start, train_end, symbols):\n",
    "    # Nimm nur die ersten 70% der Train-Daten für Paarauswahl\n",
    "    train_length = (train_end - train_start).days\n",
    "    pair_selection_end = train_start + pd.Timedelta(days=int(train_length * 0.7))\n",
    "    \n",
    "    # Paarauswahl nur auf subset der Trainingsdaten\n",
    "    selection_mask = (price_matrix.index >= train_start) & (price_matrix.index <= pair_selection_end)\n",
    "    selection_data = price_matrix[selection_mask]\n",
    "    \n",
    "    # Initial Paarauswahl auf Selection Daten\n",
    "    score_matrix, pvalue_matrix, pairs, summary_df = analyze_pairs(selection_data, pvalue_threshold=0.05)\n",
    "    \n",
    "    # Score Berechnung\n",
    "    combined_scores = []\n",
    "    for pair in pairs:\n",
    "        idx1 = symbols.index(pair[0])\n",
    "        idx2 = symbols.index(pair[1])\n",
    "        sum_idx = summary_df[(summary_df['symbol1'] == pair[0]) & (summary_df['symbol2'] == pair[1])].index[0]\n",
    "        score_value = score_matrix[idx1, idx2]\n",
    "        p_value = summary_df.loc[sum_idx, 'p_value']\n",
    "        combined_scores.append({\n",
    "            'pair': pair,\n",
    "            'score': -score_value * (1 - p_value)\n",
    "        })\n",
    "\n",
    "    sorted_pairs = sorted(combined_scores, key=lambda x: x['score'], reverse=True)\n",
    "    return [x['pair'] for x in sorted_pairs[:20]]  # Top 20 Paare direkt zurückgeben"
   ],
   "outputs": [],
   "execution_count": null
  },
  {
   "metadata": {
    "execution": {
     "iopub.execute_input": "2025-01-27T12:02:36.103968Z",
     "iopub.status.busy": "2025-01-27T12:02:36.103884Z",
     "iopub.status.idle": "2025-01-27T12:02:36.108562Z",
     "shell.execute_reply": "2025-01-27T12:02:36.108343Z"
    }
   },
   "cell_type": "code",
   "source": [
    "def trade(S1_train, S2_train, S1_test, S2_test, symbol1, symbol2, window=20, std_dev=2):\n",
    "    # Berechne hedge ratio aus Training Daten\n",
    "    model = sm.OLS(S1_train, S2_train).fit()\n",
    "    hedge_ratio = model.params[0]\n",
    "    \n",
    "    # Berechne Spread für Training und Test\n",
    "    spread_train = S1_train - (S2_train * hedge_ratio)\n",
    "    spread_test = S1_test - (S2_test * hedge_ratio)\n",
    "    \n",
    "    # Berechne initiale Bollinger Bands aus Training\n",
    "    rolling_mean = spread_train.rolling(window=window).mean().iloc[-1]\n",
    "    rolling_std = spread_train.rolling(window=window).std().iloc[-1]\n",
    "    \n",
    "    trades = []\n",
    "    trade_id = 0\n",
    "    position = 0\n",
    "    entry_prices = None\n",
    "    entry_date = None\n",
    "    \n",
    "    for i in range(len(spread_test)):\n",
    "        current_date = spread_test.index[i]\n",
    "        current_spread = spread_test.iloc[i]\n",
    "        \n",
    "        upper_band = rolling_mean + (rolling_std * std_dev)\n",
    "        lower_band = rolling_mean - (rolling_std * std_dev)\n",
    "        \n",
    "        if position == 0:\n",
    "            if current_spread < lower_band:\n",
    "                entry_date = current_date\n",
    "                entry_prices = {\n",
    "                    symbol1: {\"price\": S1_test.iloc[i], \"type\": \"long\"},\n",
    "                    symbol2: {\"price\": S2_test.iloc[i], \"type\": \"short\"}\n",
    "                }\n",
    "                position = 1\n",
    "            elif current_spread > upper_band:\n",
    "                entry_date = current_date\n",
    "                entry_prices = {\n",
    "                    symbol1: {\"price\": S1_test.iloc[i], \"type\": \"short\"},\n",
    "                    symbol2: {\"price\": S2_test.iloc[i], \"type\": \"long\"}\n",
    "                }\n",
    "                position = -1\n",
    "        elif position != 0 and abs(current_spread - rolling_mean) < (rolling_std * 0.5):\n",
    "            for symbol in [symbol1, symbol2]:\n",
    "                trades.append({\n",
    "                    'trade_id': trade_id,\n",
    "                    'symbol': symbol,\n",
    "                    'entry_date': entry_date,\n",
    "                    'entry_price': entry_prices[symbol][\"price\"],\n",
    "                    'exit_date': current_date,\n",
    "                    'exit_price': S1_test.iloc[i] if symbol == symbol1 else S2_test.iloc[i],\n",
    "                    'position_type': entry_prices[symbol][\"type\"],\n",
    "                    'paired_symbol': symbol2 if symbol == symbol1 else symbol1,\n",
    "                    'exit_type': 'target'\n",
    "                })\n",
    "            position = 0\n",
    "            trade_id += 1\n",
    "            \n",
    "    return trades"
   ],
   "outputs": [],
   "execution_count": null
  },
  {
   "metadata": {},
   "cell_type": "code",
   "source": [
    "def backtest_pairs_rolling(price_matrix, symbols):\n",
    "    all_trades = []\n",
    "    test_start = DATE_CONFIG['TRAIN_END']\n",
    "    months = pd.date_range(test_start, DATE_CONFIG['TEST_END'], freq='M')\n",
    "    window_size = pd.DateOffset(months=1)\n",
    "    \n",
    "    print(f\"Starting backtest from {test_start} to {DATE_CONFIG['TEST_END']}\")\n",
    "    print(f\"Total months to test: {len(months)}\")\n",
    "    \n",
    "    for i, month_end in enumerate(months):\n",
    "        month_start = test_start + i * window_size\n",
    "        train_start = DATE_CONFIG['TRAIN_START'] + i * window_size\n",
    "        train_end = test_start + i * window_size\n",
    "        \n",
    "        print(f\"\\nMonth {i+1}:\")\n",
    "        print(f\"Training period: {train_start} to {train_end}\")\n",
    "        print(f\"Test period: {month_start} to {month_end}\")\n",
    "        \n",
    "        top_pairs = get_top_pairs(price_matrix, train_start, train_end, symbols)\n",
    "        print(f\"Found {len(top_pairs)} validated pairs\")\n",
    "        \n",
    "        trades_this_month = 0\n",
    "        for symbol1, symbol2 in top_pairs:\n",
    "            training_mask = (price_matrix.index >= train_start) & (price_matrix.index < train_end)\n",
    "            test_mask = (price_matrix.index >= month_start) & (price_matrix.index < month_end)\n",
    "            \n",
    "            S1_train = price_matrix[symbol1][training_mask]\n",
    "            S2_train = price_matrix[symbol2][training_mask]\n",
    "            S1_test = price_matrix[symbol1][test_mask]\n",
    "            S2_test = price_matrix[symbol2][test_mask]\n",
    "            \n",
    "            if not S1_test.empty and not S2_test.empty:\n",
    "                pair_trades = trade(S1_train, S2_train, S1_test, S2_test, symbol1, symbol2)\n",
    "                trades_this_month += len(pair_trades)\n",
    "                all_trades.extend(pair_trades)\n",
    "        \n",
    "        print(f\"Made {trades_this_month} trades this month\")\n",
    "    \n",
    "    print(f\"\\nTotal trades: {len(all_trades)}\")\n",
    "    trades_df = pd.DataFrame(all_trades)\n",
    "    trades_df.to_parquet('../../data/results/CoInt_Bollinger.parquet')\n",
    "    return trades_df"
   ],
   "outputs": [],
   "execution_count": null
  },
  {
   "cell_type": "code",
   "metadata": {
    "execution": {
     "iopub.execute_input": "2025-01-27T12:02:36.129202Z",
     "iopub.status.busy": "2025-01-27T12:02:36.129132Z",
     "iopub.status.idle": "2025-01-27T12:02:36.481975Z",
     "shell.execute_reply": "2025-01-27T12:02:36.481709Z"
    }
   },
   "source": "trades_df = backtest_pairs_rolling(price_matrix, symbols)",
   "outputs": [],
   "execution_count": null
  },
  {
   "metadata": {},
   "cell_type": "code",
   "outputs": [],
   "execution_count": null,
   "source": ""
  }
 ],
 "metadata": {
  "kernelspec": {
   "display_name": "base",
   "language": "python",
   "name": "python3"
  },
  "language_info": {
   "codemirror_mode": {
    "name": "ipython",
    "version": 3
   },
   "file_extension": ".py",
   "mimetype": "text/x-python",
   "name": "python",
   "nbconvert_exporter": "python",
   "pygments_lexer": "ipython3",
   "version": "3.12.2"
  }
 },
 "nbformat": 4,
 "nbformat_minor": 2
}
